{
 "cells": [
  {
   "cell_type": "markdown",
   "id": "7fe99d2d",
   "metadata": {},
   "source": [
    "# Data Analysis with Pandas"
   ]
  },
  {
   "cell_type": "markdown",
   "id": "d989f117",
   "metadata": {},
   "source": [
    "In this notebook, I will be using Pandas to read Adult dataset and to perform some basic analysis to improve the understanding of the dataset.This Notebook demonstrates various processes of data analysis step-by-step.\n",
    "\n",
    "### Goals:  \n",
    "- Program in Python using Jupyter notebook\n",
    "- Perform Data Analysis using Pandas\n",
    "- Practice data pre-processing methods\n",
    "- Analyze and summarize the dataset by finding facts from the data\n",
    "\n",
    "#### Dataset:  \n",
    "Adult - https://archive.ics.uci.edu/ml/datasets/Adult (https://archive.ics.uci.edu/ml/datasets/Adult)\n",
    "- Please read Adult webpage carefully including Attribute Information section to familiarise yourself with the data and the data structure.\n",
    "- To download data, click 'Data Folder' and select 'adult.data'. Save the data file as .csv file.\n",
    "- Attributes: You will also need to see 'adult.names' for the attribute names. Insert a row at the top of the dataset and add attribute names to the respective columns.\n",
    "- You will notice that the last column has no name. Name the last column as 'class-label'.\n"
   ]
  },
  {
   "cell_type": "markdown",
   "id": "294edb72",
   "metadata": {},
   "source": [
    "## Exploratory analysis: Loading and exploring the dataset\n",
    "\n",
    "In this section we are going to gain more useful insights of the dataset. The first step is to read the dataset into a dataframe and perform basic analysis to gain more understanding of the dataset we are working on such as what are the maximum and minimum values in the dataset, whether there are NULL values that exist in the dataset,summarizing data using 'groupby' etc"
   ]
  },
  {
   "cell_type": "code",
   "execution_count": 1,
   "id": "53e0b8ae",
   "metadata": {},
   "outputs": [],
   "source": [
    "#importing necessary libraries\n",
    "import pandas as pd\n",
    "import numpy as np\n",
    "import matplotlib.pyplot as plt\n",
    "%matplotlib inline"
   ]
  },
  {
   "cell_type": "code",
   "execution_count": 2,
   "id": "a888b13a",
   "metadata": {
    "scrolled": true
   },
   "outputs": [],
   "source": [
    "#loading the dataset to a dataframe\n",
    "data = pd.read_csv('C:/Users/25471/Desktop/DataMining_projects/datamining/adult.csv')"
   ]
  },
  {
   "cell_type": "code",
   "execution_count": 3,
   "id": "811517f9",
   "metadata": {},
   "outputs": [
    {
     "data": {
      "text/html": [
       "<div>\n",
       "<style scoped>\n",
       "    .dataframe tbody tr th:only-of-type {\n",
       "        vertical-align: middle;\n",
       "    }\n",
       "\n",
       "    .dataframe tbody tr th {\n",
       "        vertical-align: top;\n",
       "    }\n",
       "\n",
       "    .dataframe thead th {\n",
       "        text-align: right;\n",
       "    }\n",
       "</style>\n",
       "<table border=\"1\" class=\"dataframe\">\n",
       "  <thead>\n",
       "    <tr style=\"text-align: right;\">\n",
       "      <th></th>\n",
       "      <th>age</th>\n",
       "      <th>workclass</th>\n",
       "      <th>fblwgt</th>\n",
       "      <th>education</th>\n",
       "      <th>education-num</th>\n",
       "      <th>marital status</th>\n",
       "      <th>occupation</th>\n",
       "      <th>relationship</th>\n",
       "      <th>race</th>\n",
       "      <th>sex</th>\n",
       "      <th>capital gain</th>\n",
       "      <th>capital loss</th>\n",
       "      <th>hours per week</th>\n",
       "      <th>native country</th>\n",
       "      <th>class label</th>\n",
       "    </tr>\n",
       "  </thead>\n",
       "  <tbody>\n",
       "    <tr>\n",
       "      <th>0</th>\n",
       "      <td>39</td>\n",
       "      <td>State-gov</td>\n",
       "      <td>77516</td>\n",
       "      <td>Bachelors</td>\n",
       "      <td>13</td>\n",
       "      <td>Never-married</td>\n",
       "      <td>Adm-clerical</td>\n",
       "      <td>Not-in-family</td>\n",
       "      <td>White</td>\n",
       "      <td>Male</td>\n",
       "      <td>2174</td>\n",
       "      <td>0</td>\n",
       "      <td>40</td>\n",
       "      <td>United-States</td>\n",
       "      <td>&lt;=50K</td>\n",
       "    </tr>\n",
       "    <tr>\n",
       "      <th>1</th>\n",
       "      <td>50</td>\n",
       "      <td>Self-emp-not-inc</td>\n",
       "      <td>83311</td>\n",
       "      <td>Bachelors</td>\n",
       "      <td>13</td>\n",
       "      <td>Married-civ-spouse</td>\n",
       "      <td>Exec-managerial</td>\n",
       "      <td>Husband</td>\n",
       "      <td>White</td>\n",
       "      <td>Male</td>\n",
       "      <td>0</td>\n",
       "      <td>0</td>\n",
       "      <td>13</td>\n",
       "      <td>United-States</td>\n",
       "      <td>&lt;=50K</td>\n",
       "    </tr>\n",
       "    <tr>\n",
       "      <th>2</th>\n",
       "      <td>38</td>\n",
       "      <td>Private</td>\n",
       "      <td>215646</td>\n",
       "      <td>HS-grad</td>\n",
       "      <td>9</td>\n",
       "      <td>Divorced</td>\n",
       "      <td>Handlers-cleaners</td>\n",
       "      <td>Not-in-family</td>\n",
       "      <td>White</td>\n",
       "      <td>Male</td>\n",
       "      <td>0</td>\n",
       "      <td>0</td>\n",
       "      <td>40</td>\n",
       "      <td>United-States</td>\n",
       "      <td>&lt;=50K</td>\n",
       "    </tr>\n",
       "    <tr>\n",
       "      <th>3</th>\n",
       "      <td>53</td>\n",
       "      <td>Private</td>\n",
       "      <td>234721</td>\n",
       "      <td>11th</td>\n",
       "      <td>7</td>\n",
       "      <td>Married-civ-spouse</td>\n",
       "      <td>Handlers-cleaners</td>\n",
       "      <td>Husband</td>\n",
       "      <td>Black</td>\n",
       "      <td>Male</td>\n",
       "      <td>0</td>\n",
       "      <td>0</td>\n",
       "      <td>40</td>\n",
       "      <td>United-States</td>\n",
       "      <td>&lt;=50K</td>\n",
       "    </tr>\n",
       "    <tr>\n",
       "      <th>4</th>\n",
       "      <td>28</td>\n",
       "      <td>Private</td>\n",
       "      <td>338409</td>\n",
       "      <td>Bachelors</td>\n",
       "      <td>13</td>\n",
       "      <td>Married-civ-spouse</td>\n",
       "      <td>Prof-specialty</td>\n",
       "      <td>Wife</td>\n",
       "      <td>Black</td>\n",
       "      <td>Female</td>\n",
       "      <td>0</td>\n",
       "      <td>0</td>\n",
       "      <td>40</td>\n",
       "      <td>Cuba</td>\n",
       "      <td>&lt;=50K</td>\n",
       "    </tr>\n",
       "  </tbody>\n",
       "</table>\n",
       "</div>"
      ],
      "text/plain": [
       "   age          workclass  fblwgt   education  education-num   \n",
       "0   39          State-gov   77516   Bachelors             13  \\\n",
       "1   50   Self-emp-not-inc   83311   Bachelors             13   \n",
       "2   38            Private  215646     HS-grad              9   \n",
       "3   53            Private  234721        11th              7   \n",
       "4   28            Private  338409   Bachelors             13   \n",
       "\n",
       "        marital status          occupation    relationship    race      sex   \n",
       "0        Never-married        Adm-clerical   Not-in-family   White     Male  \\\n",
       "1   Married-civ-spouse     Exec-managerial         Husband   White     Male   \n",
       "2             Divorced   Handlers-cleaners   Not-in-family   White     Male   \n",
       "3   Married-civ-spouse   Handlers-cleaners         Husband   Black     Male   \n",
       "4   Married-civ-spouse      Prof-specialty            Wife   Black   Female   \n",
       "\n",
       "   capital gain  capital loss  hours per week  native country class label  \n",
       "0          2174             0              40   United-States       <=50K  \n",
       "1             0             0              13   United-States       <=50K  \n",
       "2             0             0              40   United-States       <=50K  \n",
       "3             0             0              40   United-States       <=50K  \n",
       "4             0             0              40            Cuba       <=50K  "
      ]
     },
     "execution_count": 3,
     "metadata": {},
     "output_type": "execute_result"
    }
   ],
   "source": [
    "data.head()"
   ]
  },
  {
   "cell_type": "markdown",
   "id": "d53009aa",
   "metadata": {},
   "source": [
    "Here data.head() is used to display and examine the first five rows of the dataframe data.\n",
    "The output shows a demographic respresentation of individuals.\n",
    "\n",
    "\n",
    "- age: The age of each individual. It ranges from 28 to 53 in the given sample.\n",
    "- workclass: The type of work class or employment status, such as \"State-gov,\" \"Self-emp-not-inc,\" and \"Private.\"\n",
    "- fblwgt: This column's meaning is unclear.\n",
    "- education and education-num: These columns provide information about the individual's educational background. It includes values like \"Bachelors,\" \"HS-grad,\" and \"11th.\" The education-num column represents the numerical representation of education levels.\n",
    "- marital status: Describes the marital status of individuals, including categories like \"Never-married,\" \"Married-civ-spouse,\" and \"Divorced.\"\n",
    "- occupation: Indicates the occupation of each individual, such as \"Adm-clerical,\" \"Exec-managerial,\" and \"Handlers-cleaners.\"\n",
    "- relationship: Defines the relationship status of the individuals, such as \"Not-in-family,\" \"Husband,\" and \"Wife.\"\n",
    "- race: Specifies the racial background of the individuals, including categories like \"White,\" \"Black,\" and potentially others.\n",
    "- sex: Indicates the gender of each individual, either \"Male\" or \"Female.\"\n",
    "- capital gain and capital loss: These columns provide information about capital gains and losses, although all the given samples have zero values in both columns.\n",
    "- hours per week: Represents the number of hours worked per week, which is 40 for all the given samples.\n",
    "- native country: Specifies the native country of the individuals, such as \"United-States\" and \"Cuba.\"\n",
    "- class label: Indicates the class label or income level, with the values \"<=50K\" suggesting an income less than or equal to 50,000 units."
   ]
  },
  {
   "cell_type": "markdown",
   "id": "9f5630f0",
   "metadata": {},
   "source": [
    "### Q1. Use head(2), head(10), tail(2). Explain your observations"
   ]
  },
  {
   "cell_type": "code",
   "execution_count": 4,
   "id": "defa75c4",
   "metadata": {},
   "outputs": [
    {
     "data": {
      "text/html": [
       "<div>\n",
       "<style scoped>\n",
       "    .dataframe tbody tr th:only-of-type {\n",
       "        vertical-align: middle;\n",
       "    }\n",
       "\n",
       "    .dataframe tbody tr th {\n",
       "        vertical-align: top;\n",
       "    }\n",
       "\n",
       "    .dataframe thead th {\n",
       "        text-align: right;\n",
       "    }\n",
       "</style>\n",
       "<table border=\"1\" class=\"dataframe\">\n",
       "  <thead>\n",
       "    <tr style=\"text-align: right;\">\n",
       "      <th></th>\n",
       "      <th>age</th>\n",
       "      <th>workclass</th>\n",
       "      <th>fblwgt</th>\n",
       "      <th>education</th>\n",
       "      <th>education-num</th>\n",
       "      <th>marital status</th>\n",
       "      <th>occupation</th>\n",
       "      <th>relationship</th>\n",
       "      <th>race</th>\n",
       "      <th>sex</th>\n",
       "      <th>capital gain</th>\n",
       "      <th>capital loss</th>\n",
       "      <th>hours per week</th>\n",
       "      <th>native country</th>\n",
       "      <th>class label</th>\n",
       "    </tr>\n",
       "  </thead>\n",
       "  <tbody>\n",
       "    <tr>\n",
       "      <th>0</th>\n",
       "      <td>39</td>\n",
       "      <td>State-gov</td>\n",
       "      <td>77516</td>\n",
       "      <td>Bachelors</td>\n",
       "      <td>13</td>\n",
       "      <td>Never-married</td>\n",
       "      <td>Adm-clerical</td>\n",
       "      <td>Not-in-family</td>\n",
       "      <td>White</td>\n",
       "      <td>Male</td>\n",
       "      <td>2174</td>\n",
       "      <td>0</td>\n",
       "      <td>40</td>\n",
       "      <td>United-States</td>\n",
       "      <td>&lt;=50K</td>\n",
       "    </tr>\n",
       "    <tr>\n",
       "      <th>1</th>\n",
       "      <td>50</td>\n",
       "      <td>Self-emp-not-inc</td>\n",
       "      <td>83311</td>\n",
       "      <td>Bachelors</td>\n",
       "      <td>13</td>\n",
       "      <td>Married-civ-spouse</td>\n",
       "      <td>Exec-managerial</td>\n",
       "      <td>Husband</td>\n",
       "      <td>White</td>\n",
       "      <td>Male</td>\n",
       "      <td>0</td>\n",
       "      <td>0</td>\n",
       "      <td>13</td>\n",
       "      <td>United-States</td>\n",
       "      <td>&lt;=50K</td>\n",
       "    </tr>\n",
       "  </tbody>\n",
       "</table>\n",
       "</div>"
      ],
      "text/plain": [
       "   age          workclass  fblwgt   education  education-num   \n",
       "0   39          State-gov   77516   Bachelors             13  \\\n",
       "1   50   Self-emp-not-inc   83311   Bachelors             13   \n",
       "\n",
       "        marital status        occupation    relationship    race    sex   \n",
       "0        Never-married      Adm-clerical   Not-in-family   White   Male  \\\n",
       "1   Married-civ-spouse   Exec-managerial         Husband   White   Male   \n",
       "\n",
       "   capital gain  capital loss  hours per week  native country class label  \n",
       "0          2174             0              40   United-States       <=50K  \n",
       "1             0             0              13   United-States       <=50K  "
      ]
     },
     "execution_count": 4,
     "metadata": {},
     "output_type": "execute_result"
    }
   ],
   "source": [
    "data.head(2)"
   ]
  },
  {
   "cell_type": "code",
   "execution_count": 5,
   "id": "ee700fae",
   "metadata": {},
   "outputs": [
    {
     "data": {
      "text/html": [
       "<div>\n",
       "<style scoped>\n",
       "    .dataframe tbody tr th:only-of-type {\n",
       "        vertical-align: middle;\n",
       "    }\n",
       "\n",
       "    .dataframe tbody tr th {\n",
       "        vertical-align: top;\n",
       "    }\n",
       "\n",
       "    .dataframe thead th {\n",
       "        text-align: right;\n",
       "    }\n",
       "</style>\n",
       "<table border=\"1\" class=\"dataframe\">\n",
       "  <thead>\n",
       "    <tr style=\"text-align: right;\">\n",
       "      <th></th>\n",
       "      <th>age</th>\n",
       "      <th>workclass</th>\n",
       "      <th>fblwgt</th>\n",
       "      <th>education</th>\n",
       "      <th>education-num</th>\n",
       "      <th>marital status</th>\n",
       "      <th>occupation</th>\n",
       "      <th>relationship</th>\n",
       "      <th>race</th>\n",
       "      <th>sex</th>\n",
       "      <th>capital gain</th>\n",
       "      <th>capital loss</th>\n",
       "      <th>hours per week</th>\n",
       "      <th>native country</th>\n",
       "      <th>class label</th>\n",
       "    </tr>\n",
       "  </thead>\n",
       "  <tbody>\n",
       "    <tr>\n",
       "      <th>0</th>\n",
       "      <td>39</td>\n",
       "      <td>State-gov</td>\n",
       "      <td>77516</td>\n",
       "      <td>Bachelors</td>\n",
       "      <td>13</td>\n",
       "      <td>Never-married</td>\n",
       "      <td>Adm-clerical</td>\n",
       "      <td>Not-in-family</td>\n",
       "      <td>White</td>\n",
       "      <td>Male</td>\n",
       "      <td>2174</td>\n",
       "      <td>0</td>\n",
       "      <td>40</td>\n",
       "      <td>United-States</td>\n",
       "      <td>&lt;=50K</td>\n",
       "    </tr>\n",
       "    <tr>\n",
       "      <th>1</th>\n",
       "      <td>50</td>\n",
       "      <td>Self-emp-not-inc</td>\n",
       "      <td>83311</td>\n",
       "      <td>Bachelors</td>\n",
       "      <td>13</td>\n",
       "      <td>Married-civ-spouse</td>\n",
       "      <td>Exec-managerial</td>\n",
       "      <td>Husband</td>\n",
       "      <td>White</td>\n",
       "      <td>Male</td>\n",
       "      <td>0</td>\n",
       "      <td>0</td>\n",
       "      <td>13</td>\n",
       "      <td>United-States</td>\n",
       "      <td>&lt;=50K</td>\n",
       "    </tr>\n",
       "    <tr>\n",
       "      <th>2</th>\n",
       "      <td>38</td>\n",
       "      <td>Private</td>\n",
       "      <td>215646</td>\n",
       "      <td>HS-grad</td>\n",
       "      <td>9</td>\n",
       "      <td>Divorced</td>\n",
       "      <td>Handlers-cleaners</td>\n",
       "      <td>Not-in-family</td>\n",
       "      <td>White</td>\n",
       "      <td>Male</td>\n",
       "      <td>0</td>\n",
       "      <td>0</td>\n",
       "      <td>40</td>\n",
       "      <td>United-States</td>\n",
       "      <td>&lt;=50K</td>\n",
       "    </tr>\n",
       "    <tr>\n",
       "      <th>3</th>\n",
       "      <td>53</td>\n",
       "      <td>Private</td>\n",
       "      <td>234721</td>\n",
       "      <td>11th</td>\n",
       "      <td>7</td>\n",
       "      <td>Married-civ-spouse</td>\n",
       "      <td>Handlers-cleaners</td>\n",
       "      <td>Husband</td>\n",
       "      <td>Black</td>\n",
       "      <td>Male</td>\n",
       "      <td>0</td>\n",
       "      <td>0</td>\n",
       "      <td>40</td>\n",
       "      <td>United-States</td>\n",
       "      <td>&lt;=50K</td>\n",
       "    </tr>\n",
       "    <tr>\n",
       "      <th>4</th>\n",
       "      <td>28</td>\n",
       "      <td>Private</td>\n",
       "      <td>338409</td>\n",
       "      <td>Bachelors</td>\n",
       "      <td>13</td>\n",
       "      <td>Married-civ-spouse</td>\n",
       "      <td>Prof-specialty</td>\n",
       "      <td>Wife</td>\n",
       "      <td>Black</td>\n",
       "      <td>Female</td>\n",
       "      <td>0</td>\n",
       "      <td>0</td>\n",
       "      <td>40</td>\n",
       "      <td>Cuba</td>\n",
       "      <td>&lt;=50K</td>\n",
       "    </tr>\n",
       "    <tr>\n",
       "      <th>5</th>\n",
       "      <td>37</td>\n",
       "      <td>Private</td>\n",
       "      <td>284582</td>\n",
       "      <td>Masters</td>\n",
       "      <td>14</td>\n",
       "      <td>Married-civ-spouse</td>\n",
       "      <td>Exec-managerial</td>\n",
       "      <td>Wife</td>\n",
       "      <td>White</td>\n",
       "      <td>Female</td>\n",
       "      <td>0</td>\n",
       "      <td>0</td>\n",
       "      <td>40</td>\n",
       "      <td>United-States</td>\n",
       "      <td>&lt;=50K</td>\n",
       "    </tr>\n",
       "    <tr>\n",
       "      <th>6</th>\n",
       "      <td>49</td>\n",
       "      <td>Private</td>\n",
       "      <td>160187</td>\n",
       "      <td>9th</td>\n",
       "      <td>5</td>\n",
       "      <td>Married-spouse-absent</td>\n",
       "      <td>Other-service</td>\n",
       "      <td>Not-in-family</td>\n",
       "      <td>Black</td>\n",
       "      <td>Female</td>\n",
       "      <td>0</td>\n",
       "      <td>0</td>\n",
       "      <td>16</td>\n",
       "      <td>Jamaica</td>\n",
       "      <td>&lt;=50K</td>\n",
       "    </tr>\n",
       "    <tr>\n",
       "      <th>7</th>\n",
       "      <td>52</td>\n",
       "      <td>Self-emp-not-inc</td>\n",
       "      <td>209642</td>\n",
       "      <td>HS-grad</td>\n",
       "      <td>9</td>\n",
       "      <td>Married-civ-spouse</td>\n",
       "      <td>Exec-managerial</td>\n",
       "      <td>Husband</td>\n",
       "      <td>White</td>\n",
       "      <td>Male</td>\n",
       "      <td>0</td>\n",
       "      <td>0</td>\n",
       "      <td>45</td>\n",
       "      <td>United-States</td>\n",
       "      <td>&gt;50K</td>\n",
       "    </tr>\n",
       "    <tr>\n",
       "      <th>8</th>\n",
       "      <td>31</td>\n",
       "      <td>Private</td>\n",
       "      <td>45781</td>\n",
       "      <td>Masters</td>\n",
       "      <td>14</td>\n",
       "      <td>Never-married</td>\n",
       "      <td>Prof-specialty</td>\n",
       "      <td>Not-in-family</td>\n",
       "      <td>White</td>\n",
       "      <td>Female</td>\n",
       "      <td>14084</td>\n",
       "      <td>0</td>\n",
       "      <td>50</td>\n",
       "      <td>United-States</td>\n",
       "      <td>&gt;50K</td>\n",
       "    </tr>\n",
       "    <tr>\n",
       "      <th>9</th>\n",
       "      <td>42</td>\n",
       "      <td>Private</td>\n",
       "      <td>159449</td>\n",
       "      <td>Bachelors</td>\n",
       "      <td>13</td>\n",
       "      <td>Married-civ-spouse</td>\n",
       "      <td>Exec-managerial</td>\n",
       "      <td>Husband</td>\n",
       "      <td>White</td>\n",
       "      <td>Male</td>\n",
       "      <td>5178</td>\n",
       "      <td>0</td>\n",
       "      <td>40</td>\n",
       "      <td>United-States</td>\n",
       "      <td>&gt;50K</td>\n",
       "    </tr>\n",
       "  </tbody>\n",
       "</table>\n",
       "</div>"
      ],
      "text/plain": [
       "   age          workclass  fblwgt   education  education-num   \n",
       "0   39          State-gov   77516   Bachelors             13  \\\n",
       "1   50   Self-emp-not-inc   83311   Bachelors             13   \n",
       "2   38            Private  215646     HS-grad              9   \n",
       "3   53            Private  234721        11th              7   \n",
       "4   28            Private  338409   Bachelors             13   \n",
       "5   37            Private  284582     Masters             14   \n",
       "6   49            Private  160187         9th              5   \n",
       "7   52   Self-emp-not-inc  209642     HS-grad              9   \n",
       "8   31            Private   45781     Masters             14   \n",
       "9   42            Private  159449   Bachelors             13   \n",
       "\n",
       "           marital status          occupation    relationship    race   \n",
       "0           Never-married        Adm-clerical   Not-in-family   White  \\\n",
       "1      Married-civ-spouse     Exec-managerial         Husband   White   \n",
       "2                Divorced   Handlers-cleaners   Not-in-family   White   \n",
       "3      Married-civ-spouse   Handlers-cleaners         Husband   Black   \n",
       "4      Married-civ-spouse      Prof-specialty            Wife   Black   \n",
       "5      Married-civ-spouse     Exec-managerial            Wife   White   \n",
       "6   Married-spouse-absent       Other-service   Not-in-family   Black   \n",
       "7      Married-civ-spouse     Exec-managerial         Husband   White   \n",
       "8           Never-married      Prof-specialty   Not-in-family   White   \n",
       "9      Married-civ-spouse     Exec-managerial         Husband   White   \n",
       "\n",
       "       sex  capital gain  capital loss  hours per week  native country   \n",
       "0     Male          2174             0              40   United-States  \\\n",
       "1     Male             0             0              13   United-States   \n",
       "2     Male             0             0              40   United-States   \n",
       "3     Male             0             0              40   United-States   \n",
       "4   Female             0             0              40            Cuba   \n",
       "5   Female             0             0              40   United-States   \n",
       "6   Female             0             0              16         Jamaica   \n",
       "7     Male             0             0              45   United-States   \n",
       "8   Female         14084             0              50   United-States   \n",
       "9     Male          5178             0              40   United-States   \n",
       "\n",
       "  class label  \n",
       "0       <=50K  \n",
       "1       <=50K  \n",
       "2       <=50K  \n",
       "3       <=50K  \n",
       "4       <=50K  \n",
       "5       <=50K  \n",
       "6       <=50K  \n",
       "7        >50K  \n",
       "8        >50K  \n",
       "9        >50K  "
      ]
     },
     "execution_count": 5,
     "metadata": {},
     "output_type": "execute_result"
    }
   ],
   "source": [
    "data.head(10)"
   ]
  },
  {
   "cell_type": "code",
   "execution_count": 6,
   "id": "46e2a77d",
   "metadata": {},
   "outputs": [
    {
     "data": {
      "text/html": [
       "<div>\n",
       "<style scoped>\n",
       "    .dataframe tbody tr th:only-of-type {\n",
       "        vertical-align: middle;\n",
       "    }\n",
       "\n",
       "    .dataframe tbody tr th {\n",
       "        vertical-align: top;\n",
       "    }\n",
       "\n",
       "    .dataframe thead th {\n",
       "        text-align: right;\n",
       "    }\n",
       "</style>\n",
       "<table border=\"1\" class=\"dataframe\">\n",
       "  <thead>\n",
       "    <tr style=\"text-align: right;\">\n",
       "      <th></th>\n",
       "      <th>age</th>\n",
       "      <th>workclass</th>\n",
       "      <th>fblwgt</th>\n",
       "      <th>education</th>\n",
       "      <th>education-num</th>\n",
       "      <th>marital status</th>\n",
       "      <th>occupation</th>\n",
       "      <th>relationship</th>\n",
       "      <th>race</th>\n",
       "      <th>sex</th>\n",
       "      <th>capital gain</th>\n",
       "      <th>capital loss</th>\n",
       "      <th>hours per week</th>\n",
       "      <th>native country</th>\n",
       "      <th>class label</th>\n",
       "    </tr>\n",
       "  </thead>\n",
       "  <tbody>\n",
       "    <tr>\n",
       "      <th>32559</th>\n",
       "      <td>22</td>\n",
       "      <td>Private</td>\n",
       "      <td>201490</td>\n",
       "      <td>HS-grad</td>\n",
       "      <td>9</td>\n",
       "      <td>Never-married</td>\n",
       "      <td>Adm-clerical</td>\n",
       "      <td>Own-child</td>\n",
       "      <td>White</td>\n",
       "      <td>Male</td>\n",
       "      <td>0</td>\n",
       "      <td>0</td>\n",
       "      <td>20</td>\n",
       "      <td>United-States</td>\n",
       "      <td>&lt;=50K</td>\n",
       "    </tr>\n",
       "    <tr>\n",
       "      <th>32560</th>\n",
       "      <td>52</td>\n",
       "      <td>Self-emp-inc</td>\n",
       "      <td>287927</td>\n",
       "      <td>HS-grad</td>\n",
       "      <td>9</td>\n",
       "      <td>Married-civ-spouse</td>\n",
       "      <td>Exec-managerial</td>\n",
       "      <td>Wife</td>\n",
       "      <td>White</td>\n",
       "      <td>Female</td>\n",
       "      <td>15024</td>\n",
       "      <td>0</td>\n",
       "      <td>40</td>\n",
       "      <td>United-States</td>\n",
       "      <td>&gt;50K</td>\n",
       "    </tr>\n",
       "  </tbody>\n",
       "</table>\n",
       "</div>"
      ],
      "text/plain": [
       "       age      workclass  fblwgt education  education-num   \n",
       "32559   22        Private  201490   HS-grad              9  \\\n",
       "32560   52   Self-emp-inc  287927   HS-grad              9   \n",
       "\n",
       "            marital status        occupation relationship    race      sex   \n",
       "32559        Never-married      Adm-clerical    Own-child   White     Male  \\\n",
       "32560   Married-civ-spouse   Exec-managerial         Wife   White   Female   \n",
       "\n",
       "       capital gain  capital loss  hours per week  native country class label  \n",
       "32559             0             0              20   United-States       <=50K  \n",
       "32560         15024             0              40   United-States        >50K  "
      ]
     },
     "execution_count": 6,
     "metadata": {},
     "output_type": "execute_result"
    }
   ],
   "source": [
    "data.tail(2)"
   ]
  },
  {
   "cell_type": "markdown",
   "id": "799dd7b8",
   "metadata": {},
   "source": [
    "- Here head(2) displays the first two rows of the dataframe data.\n",
    "- head(10) returns the first 10 rows of the dataframe.\n",
    "- tail(2) displays the last two rows of the dataframe."
   ]
  },
  {
   "cell_type": "code",
   "execution_count": 7,
   "id": "db42acc4",
   "metadata": {},
   "outputs": [
    {
     "data": {
      "text/plain": [
       "(32561, 15)"
      ]
     },
     "execution_count": 7,
     "metadata": {},
     "output_type": "execute_result"
    }
   ],
   "source": [
    "data.shape"
   ]
  },
  {
   "cell_type": "markdown",
   "id": "3f8f4bc4",
   "metadata": {},
   "source": [
    "data.shape is used to get the dimensionality of the dataframe data.This returns the number of rows (32561) and columns (15)"
   ]
  },
  {
   "cell_type": "markdown",
   "id": "a64628b4",
   "metadata": {},
   "source": [
    "## Generating a unique dataset \n",
    "For this task we are going to generate a our version of dataset. To achieve this, we will use 48 in random_state."
   ]
  },
  {
   "cell_type": "code",
   "execution_count": 8,
   "id": "a8288bcb",
   "metadata": {},
   "outputs": [],
   "source": [
    "data = data.sample(n=30000, random_state = 48)"
   ]
  },
  {
   "cell_type": "markdown",
   "id": "77101223",
   "metadata": {},
   "source": [
    "The sample() function is used to randomly select rows from a DataFrame.It selects a random sample of 30,000 rows from the dataset. \n",
    "The random sample will consistently provide the same results when the code is run again with the same seed if a specific value, in this example 48, is specified, hence ensures consistency."
   ]
  },
  {
   "cell_type": "code",
   "execution_count": 9,
   "id": "1cd166d1",
   "metadata": {},
   "outputs": [
    {
     "data": {
      "text/plain": [
       "(30000, 15)"
      ]
     },
     "execution_count": 9,
     "metadata": {},
     "output_type": "execute_result"
    }
   ],
   "source": [
    "data.shape"
   ]
  },
  {
   "cell_type": "markdown",
   "id": "e7e13f30",
   "metadata": {},
   "source": [
    "The dimensionality of the dataset has changed in number of rows from 32561 to 30000 with no changes in number of columns"
   ]
  },
  {
   "cell_type": "code",
   "execution_count": 10,
   "id": "6e564b81",
   "metadata": {},
   "outputs": [
    {
     "data": {
      "text/html": [
       "<div>\n",
       "<style scoped>\n",
       "    .dataframe tbody tr th:only-of-type {\n",
       "        vertical-align: middle;\n",
       "    }\n",
       "\n",
       "    .dataframe tbody tr th {\n",
       "        vertical-align: top;\n",
       "    }\n",
       "\n",
       "    .dataframe thead th {\n",
       "        text-align: right;\n",
       "    }\n",
       "</style>\n",
       "<table border=\"1\" class=\"dataframe\">\n",
       "  <thead>\n",
       "    <tr style=\"text-align: right;\">\n",
       "      <th></th>\n",
       "      <th>age</th>\n",
       "      <th>fblwgt</th>\n",
       "      <th>education-num</th>\n",
       "      <th>capital gain</th>\n",
       "      <th>capital loss</th>\n",
       "      <th>hours per week</th>\n",
       "    </tr>\n",
       "  </thead>\n",
       "  <tbody>\n",
       "    <tr>\n",
       "      <th>count</th>\n",
       "      <td>30000.000000</td>\n",
       "      <td>3.000000e+04</td>\n",
       "      <td>30000.000000</td>\n",
       "      <td>30000.000000</td>\n",
       "      <td>30000.000000</td>\n",
       "      <td>30000.000000</td>\n",
       "    </tr>\n",
       "    <tr>\n",
       "      <th>mean</th>\n",
       "      <td>38.601733</td>\n",
       "      <td>1.897456e+05</td>\n",
       "      <td>10.078533</td>\n",
       "      <td>1072.036100</td>\n",
       "      <td>86.703967</td>\n",
       "      <td>40.409433</td>\n",
       "    </tr>\n",
       "    <tr>\n",
       "      <th>std</th>\n",
       "      <td>13.645910</td>\n",
       "      <td>1.058005e+05</td>\n",
       "      <td>2.571715</td>\n",
       "      <td>7387.730029</td>\n",
       "      <td>401.942288</td>\n",
       "      <td>12.349540</td>\n",
       "    </tr>\n",
       "    <tr>\n",
       "      <th>min</th>\n",
       "      <td>17.000000</td>\n",
       "      <td>1.228500e+04</td>\n",
       "      <td>1.000000</td>\n",
       "      <td>0.000000</td>\n",
       "      <td>0.000000</td>\n",
       "      <td>1.000000</td>\n",
       "    </tr>\n",
       "    <tr>\n",
       "      <th>25%</th>\n",
       "      <td>28.000000</td>\n",
       "      <td>1.177670e+05</td>\n",
       "      <td>9.000000</td>\n",
       "      <td>0.000000</td>\n",
       "      <td>0.000000</td>\n",
       "      <td>40.000000</td>\n",
       "    </tr>\n",
       "    <tr>\n",
       "      <th>50%</th>\n",
       "      <td>37.000000</td>\n",
       "      <td>1.783090e+05</td>\n",
       "      <td>10.000000</td>\n",
       "      <td>0.000000</td>\n",
       "      <td>0.000000</td>\n",
       "      <td>40.000000</td>\n",
       "    </tr>\n",
       "    <tr>\n",
       "      <th>75%</th>\n",
       "      <td>48.000000</td>\n",
       "      <td>2.368742e+05</td>\n",
       "      <td>12.000000</td>\n",
       "      <td>0.000000</td>\n",
       "      <td>0.000000</td>\n",
       "      <td>45.000000</td>\n",
       "    </tr>\n",
       "    <tr>\n",
       "      <th>max</th>\n",
       "      <td>90.000000</td>\n",
       "      <td>1.484705e+06</td>\n",
       "      <td>16.000000</td>\n",
       "      <td>99999.000000</td>\n",
       "      <td>4356.000000</td>\n",
       "      <td>99.000000</td>\n",
       "    </tr>\n",
       "  </tbody>\n",
       "</table>\n",
       "</div>"
      ],
      "text/plain": [
       "                age        fblwgt  education-num  capital gain  capital loss   \n",
       "count  30000.000000  3.000000e+04   30000.000000  30000.000000  30000.000000  \\\n",
       "mean      38.601733  1.897456e+05      10.078533   1072.036100     86.703967   \n",
       "std       13.645910  1.058005e+05       2.571715   7387.730029    401.942288   \n",
       "min       17.000000  1.228500e+04       1.000000      0.000000      0.000000   \n",
       "25%       28.000000  1.177670e+05       9.000000      0.000000      0.000000   \n",
       "50%       37.000000  1.783090e+05      10.000000      0.000000      0.000000   \n",
       "75%       48.000000  2.368742e+05      12.000000      0.000000      0.000000   \n",
       "max       90.000000  1.484705e+06      16.000000  99999.000000   4356.000000   \n",
       "\n",
       "       hours per week  \n",
       "count    30000.000000  \n",
       "mean        40.409433  \n",
       "std         12.349540  \n",
       "min          1.000000  \n",
       "25%         40.000000  \n",
       "50%         40.000000  \n",
       "75%         45.000000  \n",
       "max         99.000000  "
      ]
     },
     "execution_count": 10,
     "metadata": {},
     "output_type": "execute_result"
    }
   ],
   "source": [
    "data.describe()"
   ]
  },
  {
   "cell_type": "markdown",
   "id": "e4689f85",
   "metadata": {},
   "source": [
    "This method displays a summary of several statistical indicators for each numerical column, including count, mean, standard deviation, minimum value, quartiles, and maximum value.\n",
    "\n",
    "- count: Shows how many non-missing values there are in each column. In this instance, all columns have 30,000 non-missing data.\n",
    "\n",
    "- mean: Displays each column's average or mean value. For instance, the typical age is about 38.60 and so on.\n",
    "\n",
    "- std: stands for the standard deviation, which quantifies how much results deviate from the mean. More variety in the data is indicated by a higher standard deviation.\n",
    "\n",
    "- min: gives the minimum value that was noticed in each column, or min. For instance,the minimum age is 17.\n",
    "\n",
    "- 25%, 50%, and 75%: These are quartiles,25% of the data falls is known as the 25th percentile (first quartile). Similar to this, the median is represented by the 50th percentile (second quartile), and the number below which 75% of the data falls by the 75th percentile (third quartile).\n",
    "\n",
    "- max: Displays the highest value ever recorded for each column. For instance, the maximum age is 90.\n"
   ]
  },
  {
   "cell_type": "code",
   "execution_count": 11,
   "id": "1a87b274",
   "metadata": {},
   "outputs": [
    {
     "data": {
      "text/plain": [
       "education-num\n",
       "9     9678\n",
       "10    6724\n",
       "13    4907\n",
       "14    1600\n",
       "11    1271\n",
       "7     1091\n",
       "12     985\n",
       "6      869\n",
       "4      589\n",
       "15     526\n",
       "5      471\n",
       "8      401\n",
       "16     381\n",
       "3      301\n",
       "2      157\n",
       "1       49\n",
       "Name: count, dtype: int64"
      ]
     },
     "execution_count": 11,
     "metadata": {},
     "output_type": "execute_result"
    }
   ],
   "source": [
    "data['education-num'].value_counts()"
   ]
  },
  {
   "cell_type": "markdown",
   "id": "2f6e4b0e",
   "metadata": {},
   "source": [
    "This returns the occurence of unique values in the 'education-num' column of integer type.Each value in the 'education-num' column represents a different level of education or educational attainment for example 9 occurs 9678 times and so on."
   ]
  },
  {
   "cell_type": "code",
   "execution_count": 12,
   "id": "baf58601",
   "metadata": {},
   "outputs": [
    {
     "data": {
      "text/plain": [
       "education\n",
       " HS-grad         9678\n",
       " Some-college    6724\n",
       " Bachelors       4907\n",
       " Masters         1600\n",
       " Assoc-voc       1271\n",
       " 11th            1091\n",
       " Assoc-acdm       985\n",
       " 10th             869\n",
       " 7th-8th          589\n",
       " Prof-school      526\n",
       " 9th              471\n",
       " 12th             401\n",
       " Doctorate        381\n",
       " 5th-6th          301\n",
       " 1st-4th          157\n",
       " Preschool         49\n",
       "Name: count, dtype: int64"
      ]
     },
     "execution_count": 12,
     "metadata": {},
     "output_type": "execute_result"
    }
   ],
   "source": [
    "data['education'].value_counts()"
   ]
  },
  {
   "cell_type": "markdown",
   "id": "5d16a6cc",
   "metadata": {},
   "source": [
    "This returns the occurence of each value in the level of education in the 'education' column. For example HS-grad has 9678 graduates and so on."
   ]
  },
  {
   "cell_type": "code",
   "execution_count": 13,
   "id": "4af2177e",
   "metadata": {},
   "outputs": [],
   "source": [
    "data = data.drop(['fblwgt'], axis=1)"
   ]
  },
  {
   "cell_type": "markdown",
   "id": "41c653a3",
   "metadata": {},
   "source": [
    "The cell above removes/drops the column with the label \"fblwgt\" by specifying the axis=1 for columns and axis=0 for rows.\n",
    "We drop this column because it has no role in our exploration."
   ]
  },
  {
   "cell_type": "code",
   "execution_count": 14,
   "id": "ad8f7706",
   "metadata": {},
   "outputs": [
    {
     "data": {
      "text/plain": [
       "(30000, 14)"
      ]
     },
     "execution_count": 14,
     "metadata": {},
     "output_type": "execute_result"
    }
   ],
   "source": [
    "data.shape"
   ]
  },
  {
   "cell_type": "markdown",
   "id": "1fcfff3f",
   "metadata": {},
   "source": [
    "Change in the number of columns from 15 to 14 with no changes in rows."
   ]
  },
  {
   "cell_type": "code",
   "execution_count": 15,
   "id": "0fc32040",
   "metadata": {
    "scrolled": true
   },
   "outputs": [
    {
     "data": {
      "text/html": [
       "<div>\n",
       "<style scoped>\n",
       "    .dataframe tbody tr th:only-of-type {\n",
       "        vertical-align: middle;\n",
       "    }\n",
       "\n",
       "    .dataframe tbody tr th {\n",
       "        vertical-align: top;\n",
       "    }\n",
       "\n",
       "    .dataframe thead th {\n",
       "        text-align: right;\n",
       "    }\n",
       "</style>\n",
       "<table border=\"1\" class=\"dataframe\">\n",
       "  <thead>\n",
       "    <tr style=\"text-align: right;\">\n",
       "      <th></th>\n",
       "      <th>age</th>\n",
       "      <th>workclass</th>\n",
       "      <th>education</th>\n",
       "      <th>education-num</th>\n",
       "      <th>marital status</th>\n",
       "      <th>occupation</th>\n",
       "      <th>relationship</th>\n",
       "      <th>race</th>\n",
       "      <th>sex</th>\n",
       "      <th>capital gain</th>\n",
       "      <th>capital loss</th>\n",
       "      <th>hours per week</th>\n",
       "      <th>native country</th>\n",
       "      <th>class label</th>\n",
       "    </tr>\n",
       "  </thead>\n",
       "  <tbody>\n",
       "    <tr>\n",
       "      <th>count</th>\n",
       "      <td>30000.000000</td>\n",
       "      <td>30000</td>\n",
       "      <td>30000</td>\n",
       "      <td>30000.000000</td>\n",
       "      <td>30000</td>\n",
       "      <td>30000</td>\n",
       "      <td>30000</td>\n",
       "      <td>30000</td>\n",
       "      <td>30000</td>\n",
       "      <td>30000.000000</td>\n",
       "      <td>30000.000000</td>\n",
       "      <td>30000.000000</td>\n",
       "      <td>30000</td>\n",
       "      <td>30000</td>\n",
       "    </tr>\n",
       "    <tr>\n",
       "      <th>unique</th>\n",
       "      <td>NaN</td>\n",
       "      <td>9</td>\n",
       "      <td>16</td>\n",
       "      <td>NaN</td>\n",
       "      <td>7</td>\n",
       "      <td>15</td>\n",
       "      <td>6</td>\n",
       "      <td>5</td>\n",
       "      <td>2</td>\n",
       "      <td>NaN</td>\n",
       "      <td>NaN</td>\n",
       "      <td>NaN</td>\n",
       "      <td>42</td>\n",
       "      <td>2</td>\n",
       "    </tr>\n",
       "    <tr>\n",
       "      <th>top</th>\n",
       "      <td>NaN</td>\n",
       "      <td>Private</td>\n",
       "      <td>HS-grad</td>\n",
       "      <td>NaN</td>\n",
       "      <td>Married-civ-spouse</td>\n",
       "      <td>Prof-specialty</td>\n",
       "      <td>Husband</td>\n",
       "      <td>White</td>\n",
       "      <td>Male</td>\n",
       "      <td>NaN</td>\n",
       "      <td>NaN</td>\n",
       "      <td>NaN</td>\n",
       "      <td>United-States</td>\n",
       "      <td>&lt;=50K</td>\n",
       "    </tr>\n",
       "    <tr>\n",
       "      <th>freq</th>\n",
       "      <td>NaN</td>\n",
       "      <td>20897</td>\n",
       "      <td>9678</td>\n",
       "      <td>NaN</td>\n",
       "      <td>13807</td>\n",
       "      <td>3834</td>\n",
       "      <td>12170</td>\n",
       "      <td>25608</td>\n",
       "      <td>20079</td>\n",
       "      <td>NaN</td>\n",
       "      <td>NaN</td>\n",
       "      <td>NaN</td>\n",
       "      <td>26872</td>\n",
       "      <td>22779</td>\n",
       "    </tr>\n",
       "    <tr>\n",
       "      <th>mean</th>\n",
       "      <td>38.601733</td>\n",
       "      <td>NaN</td>\n",
       "      <td>NaN</td>\n",
       "      <td>10.078533</td>\n",
       "      <td>NaN</td>\n",
       "      <td>NaN</td>\n",
       "      <td>NaN</td>\n",
       "      <td>NaN</td>\n",
       "      <td>NaN</td>\n",
       "      <td>1072.036100</td>\n",
       "      <td>86.703967</td>\n",
       "      <td>40.409433</td>\n",
       "      <td>NaN</td>\n",
       "      <td>NaN</td>\n",
       "    </tr>\n",
       "    <tr>\n",
       "      <th>std</th>\n",
       "      <td>13.645910</td>\n",
       "      <td>NaN</td>\n",
       "      <td>NaN</td>\n",
       "      <td>2.571715</td>\n",
       "      <td>NaN</td>\n",
       "      <td>NaN</td>\n",
       "      <td>NaN</td>\n",
       "      <td>NaN</td>\n",
       "      <td>NaN</td>\n",
       "      <td>7387.730029</td>\n",
       "      <td>401.942288</td>\n",
       "      <td>12.349540</td>\n",
       "      <td>NaN</td>\n",
       "      <td>NaN</td>\n",
       "    </tr>\n",
       "    <tr>\n",
       "      <th>min</th>\n",
       "      <td>17.000000</td>\n",
       "      <td>NaN</td>\n",
       "      <td>NaN</td>\n",
       "      <td>1.000000</td>\n",
       "      <td>NaN</td>\n",
       "      <td>NaN</td>\n",
       "      <td>NaN</td>\n",
       "      <td>NaN</td>\n",
       "      <td>NaN</td>\n",
       "      <td>0.000000</td>\n",
       "      <td>0.000000</td>\n",
       "      <td>1.000000</td>\n",
       "      <td>NaN</td>\n",
       "      <td>NaN</td>\n",
       "    </tr>\n",
       "    <tr>\n",
       "      <th>25%</th>\n",
       "      <td>28.000000</td>\n",
       "      <td>NaN</td>\n",
       "      <td>NaN</td>\n",
       "      <td>9.000000</td>\n",
       "      <td>NaN</td>\n",
       "      <td>NaN</td>\n",
       "      <td>NaN</td>\n",
       "      <td>NaN</td>\n",
       "      <td>NaN</td>\n",
       "      <td>0.000000</td>\n",
       "      <td>0.000000</td>\n",
       "      <td>40.000000</td>\n",
       "      <td>NaN</td>\n",
       "      <td>NaN</td>\n",
       "    </tr>\n",
       "    <tr>\n",
       "      <th>50%</th>\n",
       "      <td>37.000000</td>\n",
       "      <td>NaN</td>\n",
       "      <td>NaN</td>\n",
       "      <td>10.000000</td>\n",
       "      <td>NaN</td>\n",
       "      <td>NaN</td>\n",
       "      <td>NaN</td>\n",
       "      <td>NaN</td>\n",
       "      <td>NaN</td>\n",
       "      <td>0.000000</td>\n",
       "      <td>0.000000</td>\n",
       "      <td>40.000000</td>\n",
       "      <td>NaN</td>\n",
       "      <td>NaN</td>\n",
       "    </tr>\n",
       "    <tr>\n",
       "      <th>75%</th>\n",
       "      <td>48.000000</td>\n",
       "      <td>NaN</td>\n",
       "      <td>NaN</td>\n",
       "      <td>12.000000</td>\n",
       "      <td>NaN</td>\n",
       "      <td>NaN</td>\n",
       "      <td>NaN</td>\n",
       "      <td>NaN</td>\n",
       "      <td>NaN</td>\n",
       "      <td>0.000000</td>\n",
       "      <td>0.000000</td>\n",
       "      <td>45.000000</td>\n",
       "      <td>NaN</td>\n",
       "      <td>NaN</td>\n",
       "    </tr>\n",
       "    <tr>\n",
       "      <th>max</th>\n",
       "      <td>90.000000</td>\n",
       "      <td>NaN</td>\n",
       "      <td>NaN</td>\n",
       "      <td>16.000000</td>\n",
       "      <td>NaN</td>\n",
       "      <td>NaN</td>\n",
       "      <td>NaN</td>\n",
       "      <td>NaN</td>\n",
       "      <td>NaN</td>\n",
       "      <td>99999.000000</td>\n",
       "      <td>4356.000000</td>\n",
       "      <td>99.000000</td>\n",
       "      <td>NaN</td>\n",
       "      <td>NaN</td>\n",
       "    </tr>\n",
       "  </tbody>\n",
       "</table>\n",
       "</div>"
      ],
      "text/plain": [
       "                 age workclass education  education-num       marital status   \n",
       "count   30000.000000     30000     30000   30000.000000                30000  \\\n",
       "unique           NaN         9        16            NaN                    7   \n",
       "top              NaN   Private   HS-grad            NaN   Married-civ-spouse   \n",
       "freq             NaN     20897      9678            NaN                13807   \n",
       "mean       38.601733       NaN       NaN      10.078533                  NaN   \n",
       "std        13.645910       NaN       NaN       2.571715                  NaN   \n",
       "min        17.000000       NaN       NaN       1.000000                  NaN   \n",
       "25%        28.000000       NaN       NaN       9.000000                  NaN   \n",
       "50%        37.000000       NaN       NaN      10.000000                  NaN   \n",
       "75%        48.000000       NaN       NaN      12.000000                  NaN   \n",
       "max        90.000000       NaN       NaN      16.000000                  NaN   \n",
       "\n",
       "             occupation relationship    race    sex  capital gain   \n",
       "count             30000        30000   30000  30000  30000.000000  \\\n",
       "unique               15            6       5      2           NaN   \n",
       "top      Prof-specialty      Husband   White   Male           NaN   \n",
       "freq               3834        12170   25608  20079           NaN   \n",
       "mean                NaN          NaN     NaN    NaN   1072.036100   \n",
       "std                 NaN          NaN     NaN    NaN   7387.730029   \n",
       "min                 NaN          NaN     NaN    NaN      0.000000   \n",
       "25%                 NaN          NaN     NaN    NaN      0.000000   \n",
       "50%                 NaN          NaN     NaN    NaN      0.000000   \n",
       "75%                 NaN          NaN     NaN    NaN      0.000000   \n",
       "max                 NaN          NaN     NaN    NaN  99999.000000   \n",
       "\n",
       "        capital loss  hours per week  native country class label  \n",
       "count   30000.000000    30000.000000           30000       30000  \n",
       "unique           NaN             NaN              42           2  \n",
       "top              NaN             NaN   United-States       <=50K  \n",
       "freq             NaN             NaN           26872       22779  \n",
       "mean       86.703967       40.409433             NaN         NaN  \n",
       "std       401.942288       12.349540             NaN         NaN  \n",
       "min         0.000000        1.000000             NaN         NaN  \n",
       "25%         0.000000       40.000000             NaN         NaN  \n",
       "50%         0.000000       40.000000             NaN         NaN  \n",
       "75%         0.000000       45.000000             NaN         NaN  \n",
       "max      4356.000000       99.000000             NaN         NaN  "
      ]
     },
     "execution_count": 15,
     "metadata": {},
     "output_type": "execute_result"
    }
   ],
   "source": [
    "data.describe(include='all')"
   ]
  },
  {
   "cell_type": "markdown",
   "id": "ed571091",
   "metadata": {},
   "source": [
    "the cell above displays the statistical summary of both the numeric and non-numeric columns and it also provides information on the unique values and their frequencies for categorical columns.\n",
    "\n",
    "- count: Indicates the number of non-missing values for each column. For example, the 'age' column has 30,000 non-missing values.\n",
    "- unique: Shows the number of unique values in each column. The 'workclass' column has 9 unique values, 'education' has 16 unique values, and so on.\n",
    "- top: Displays the most frequent value in each column. For instance, in the 'workclass' column, 'Private' is the most common value.\n",
    "- freq: Corresponds to the frequency of the most frequent value in each column. In the 'workclass' column, 'Private' appears 20,897 times.\n",
    "- mean: Represents the mean value for numeric columns. In the 'age' column, the average age is approximately 38.60.\n",
    "- std: Represents the standard deviation for numeric columns. The 'age' column has a standard deviation of approximately 13.65.\n",
    "- min: Indicates the minimum value for numeric columns. The minimum age is 17.\n",
    "- 25%, 50%, 75%: These quartiles represent the values below which a certain percentage of the data falls. For example, 25% of the ages are below 28, while 50% are below 37.\n",
    "- max: Represents the maximum value for numeric columns. The maximum age is 90."
   ]
  },
  {
   "cell_type": "code",
   "execution_count": 16,
   "id": "ac276a20",
   "metadata": {},
   "outputs": [
    {
     "data": {
      "text/plain": [
       "education\n",
       " HS-grad         9678\n",
       " Some-college    6724\n",
       " Bachelors       4907\n",
       " Masters         1600\n",
       " Assoc-voc       1271\n",
       " 11th            1091\n",
       " Assoc-acdm       985\n",
       " 10th             869\n",
       " 7th-8th          589\n",
       " Prof-school      526\n",
       " 9th              471\n",
       " 12th             401\n",
       " Doctorate        381\n",
       " 5th-6th          301\n",
       " 1st-4th          157\n",
       " Preschool         49\n",
       "Name: count, dtype: int64"
      ]
     },
     "execution_count": 16,
     "metadata": {},
     "output_type": "execute_result"
    }
   ],
   "source": [
    "data['education'].value_counts()"
   ]
  },
  {
   "cell_type": "markdown",
   "id": "8273d069",
   "metadata": {},
   "source": [
    "value_counts() produces a frequency table, which shows occurance of each feature or attribute in a dataset."
   ]
  },
  {
   "cell_type": "code",
   "execution_count": 17,
   "id": "e37b7ef5",
   "metadata": {},
   "outputs": [
    {
     "data": {
      "text/plain": [
       "16"
      ]
     },
     "execution_count": 17,
     "metadata": {},
     "output_type": "execute_result"
    }
   ],
   "source": [
    "data['education'].nunique()"
   ]
  },
  {
   "cell_type": "markdown",
   "id": "ee843211",
   "metadata": {},
   "source": [
    "the code calculates the number of unique values in the 'education' column.\n",
    "Shows that there are 16 unique education levels in the column"
   ]
  },
  {
   "cell_type": "code",
   "execution_count": 18,
   "id": "c1def4d5",
   "metadata": {},
   "outputs": [
    {
     "data": {
      "text/plain": [
       "age\n",
       "36    832\n",
       "34    830\n",
       "31    815\n",
       "35    809\n",
       "33    808\n",
       "     ... \n",
       "83      6\n",
       "85      3\n",
       "88      2\n",
       "87      1\n",
       "86      1\n",
       "Name: count, Length: 73, dtype: int64"
      ]
     },
     "execution_count": 18,
     "metadata": {},
     "output_type": "execute_result"
    }
   ],
   "source": [
    "data['age'].value_counts()"
   ]
  },
  {
   "cell_type": "markdown",
   "id": "350e6caf",
   "metadata": {},
   "source": [
    "The code returns the frequency table for age that appears to be too lengthy to be analysed and the frequency of each value is displayed.For this we can use graphs to make more observations."
   ]
  },
  {
   "cell_type": "code",
   "execution_count": 19,
   "id": "669edf06",
   "metadata": {
    "scrolled": true
   },
   "outputs": [
    {
     "data": {
      "text/plain": [
       "<Axes: >"
      ]
     },
     "execution_count": 19,
     "metadata": {},
     "output_type": "execute_result"
    },
    {
     "data": {
      "image/png": "[encoded data removed]",
      "text/plain": [
       "<Figure size 640x480 with 1 Axes>"
      ]
     },
     "metadata": {},
     "output_type": "display_data"
    }
   ],
   "source": [
    "data.boxplot(column='age')"
   ]
  },
  {
   "cell_type": "markdown",
   "id": "0d8d47c4",
   "metadata": {},
   "source": [
    "This will display the age distribution of the dataset.The middle 50% of ages will be represented by the big box, median ages will be represented by the middle line inside the box and the range of ages that are not outliers will be represented by the whiskers.In this case the median age is at the interval of 38-39 years and the outlier variable is between 80-90 years"
   ]
  },
  {
   "cell_type": "code",
   "execution_count": 20,
   "id": "c96ac32c",
   "metadata": {},
   "outputs": [
    {
     "data": {
      "text/plain": [
       "<Axes: >"
      ]
     },
     "execution_count": 20,
     "metadata": {},
     "output_type": "execute_result"
    },
    {
     "data": {
      "image/png": "[encoded data removed]",
      "text/plain": [
       "<Figure size 640x480 with 1 Axes>"
      ]
     },
     "metadata": {},
     "output_type": "display_data"
    }
   ],
   "source": [
    "data['age'].hist(bins=100)"
   ]
  },
  {
   "cell_type": "code",
   "execution_count": 21,
   "id": "a9b3c2b4",
   "metadata": {},
   "outputs": [
    {
     "data": {
      "text/plain": [
       "<Axes: >"
      ]
     },
     "execution_count": 21,
     "metadata": {},
     "output_type": "execute_result"
    },
    {
     "data": {
      "image/png": "[encoded data removed]",
      "text/plain": [
       "<Figure size 640x480 with 1 Axes>"
      ]
     },
     "metadata": {},
     "output_type": "display_data"
    }
   ],
   "source": [
    "data.age.hist(bins=100)"
   ]
  },
  {
   "cell_type": "markdown",
   "id": "76a3be4d",
   "metadata": {},
   "source": [
    "Both the commands generate a histogram of the age variable to show the age distribution by dividing into 100 equal intervals by using bins=100.The graph shows to be trailing on one side meaning that the variable is skewed.The ages with the highest frequency is on the interval of 30-38 years, this show the central tendency.Outliers for this case are ages between 80-90 years"
   ]
  },
  {
   "cell_type": "code",
   "execution_count": 22,
   "id": "2f5b1f54",
   "metadata": {},
   "outputs": [
    {
     "data": {
      "text/plain": [
       "sex\n",
       " Male      20079\n",
       " Female     9921\n",
       "Name: count, dtype: int64"
      ]
     },
     "execution_count": 22,
     "metadata": {},
     "output_type": "execute_result"
    }
   ],
   "source": [
    "data['sex'].value_counts()"
   ]
  },
  {
   "cell_type": "markdown",
   "id": "8229102a",
   "metadata": {},
   "source": [
    "There are only two unique values in \"sex\" column.In this case there are 20079 males and 9921 females in the dataset."
   ]
  },
  {
   "cell_type": "code",
   "execution_count": 23,
   "id": "567f5929",
   "metadata": {},
   "outputs": [
    {
     "data": {
      "text/plain": [
       "Index(['age', 'workclass', 'education', 'education-num', 'marital status',\n",
       "       'occupation', 'relationship', 'race', 'sex', 'capital gain',\n",
       "       'capital loss', 'hours per week', 'native country', 'class label'],\n",
       "      dtype='object')"
      ]
     },
     "execution_count": 23,
     "metadata": {},
     "output_type": "execute_result"
    }
   ],
   "source": [
    "data.columns"
   ]
  },
  {
   "cell_type": "markdown",
   "id": "542fd599",
   "metadata": {},
   "source": [
    "returns a list of all column names present in the dataset"
   ]
  },
  {
   "cell_type": "code",
   "execution_count": 24,
   "id": "508500f6",
   "metadata": {},
   "outputs": [
    {
     "data": {
      "text/plain": [
       "workclass\n",
       " Private             20897\n",
       " Self-emp-not-inc     2339\n",
       " Local-gov            1931\n",
       " ?                    1693\n",
       " State-gov            1204\n",
       " Self-emp-inc         1031\n",
       " Federal-gov           885\n",
       " Without-pay            13\n",
       " Never-worked            7\n",
       "Name: count, dtype: int64"
      ]
     },
     "execution_count": 24,
     "metadata": {},
     "output_type": "execute_result"
    }
   ],
   "source": [
    "data['workclass'].value_counts()"
   ]
  },
  {
   "cell_type": "markdown",
   "id": "15b2081f",
   "metadata": {},
   "source": [
    "The command returns a series of the types of working class and the occurence of each count in that proffession.The display above has been grouped in descending order. In this case 'private' has higher number than those who never worked."
   ]
  },
  {
   "cell_type": "markdown",
   "id": "d97d590f",
   "metadata": {},
   "source": [
    "### Q2   How many males and females exist in the dataset?"
   ]
  },
  {
   "cell_type": "code",
   "execution_count": 25,
   "id": "ba039c35",
   "metadata": {},
   "outputs": [
    {
     "data": {
      "text/plain": [
       "sex\n",
       " Male      20079\n",
       " Female     9921\n",
       "Name: count, dtype: int64"
      ]
     },
     "execution_count": 25,
     "metadata": {},
     "output_type": "execute_result"
    }
   ],
   "source": [
    "data['sex'].value_counts()"
   ]
  },
  {
   "cell_type": "code",
   "execution_count": 26,
   "id": "96c6e446",
   "metadata": {},
   "outputs": [
    {
     "data": {
      "text/plain": [
       "sex\n",
       " Female     9921\n",
       " Male      20079\n",
       "Name: sex, dtype: int64"
      ]
     },
     "execution_count": 26,
     "metadata": {},
     "output_type": "execute_result"
    }
   ],
   "source": [
    "data['sex'].groupby([data['sex']]).count()"
   ]
  },
  {
   "cell_type": "markdown",
   "id": "1842726f",
   "metadata": {},
   "source": [
    "Both methods can be used to get the occurence of each value.In this case the methods output that tahere are 20079 females and 9921 males."
   ]
  },
  {
   "cell_type": "code",
   "execution_count": 27,
   "id": "95446e8d",
   "metadata": {},
   "outputs": [
    {
     "name": "stdout",
     "output_type": "stream",
     "text": [
      "Total number of both genders is: 30000\n"
     ]
    }
   ],
   "source": [
    "new_gender= data['sex'].count()\n",
    "print(f'Total number of both genders is: {new_gender}')"
   ]
  },
  {
   "cell_type": "markdown",
   "id": "6619ad53",
   "metadata": {},
   "source": [
    "This method return the total number of both female and male in the dataset."
   ]
  },
  {
   "cell_type": "markdown",
   "id": "990efe5c",
   "metadata": {},
   "source": [
    "2. what is the average age of each gender in the given population?"
   ]
  },
  {
   "cell_type": "code",
   "execution_count": 28,
   "id": "341bcecc",
   "metadata": {},
   "outputs": [
    {
     "name": "stdout",
     "output_type": "stream",
     "text": [
      "sex\n",
      " Female    36.908477\n",
      " Male      39.438368\n",
      "Name: age, dtype: float64\n"
     ]
    }
   ],
   "source": [
    "average_age = data['age'].groupby([data['sex']]).mean()\n",
    "print(average_age)"
   ]
  },
  {
   "cell_type": "markdown",
   "id": "c83d0c4e",
   "metadata": {},
   "source": [
    "The command groups the 'age' column of the dataset by the 'sex' column and then calculates the mean age for each group.\n",
    "Average age for female is 36.90 while that of male is 39.43\n"
   ]
  },
  {
   "cell_type": "markdown",
   "id": "9574a15c",
   "metadata": {},
   "source": [
    "2. What is the average age of male and female across different education categories?"
   ]
  },
  {
   "cell_type": "code",
   "execution_count": 29,
   "id": "61a67474",
   "metadata": {},
   "outputs": [
    {
     "data": {
      "text/plain": [
       "education      sex    \n",
       " 10th           Female    34.946429\n",
       "                Male      38.512733\n",
       " 11th           Female    30.591584\n",
       "                Male      33.621543\n",
       " 12th           Female    29.894737\n",
       "                Male      33.421642\n",
       " 1st-4th        Female    49.125000\n",
       "                Male      45.666667\n",
       " 5th-6th        Female    43.881579\n",
       "                Male      42.351111\n",
       " 7th-8th        Female    50.609589\n",
       "                Male      47.733634\n",
       " 9th            Female    41.731343\n",
       "                Male      40.652819\n",
       " Assoc-acdm     Female    36.444444\n",
       "                Male      37.856187\n",
       " Assoc-voc      Female    37.810870\n",
       "                Male      39.000000\n",
       " Bachelors      Female    35.722410\n",
       "                Male      40.412536\n",
       " Doctorate      Female    45.573171\n",
       "                Male      48.183946\n",
       " HS-grad        Female    38.780519\n",
       "                Male      39.165930\n",
       " Masters        Female    43.202840\n",
       "                Male      44.288166\n",
       " Preschool      Female    42.071429\n",
       "                Male      43.228571\n",
       " Prof-school    Female    40.204819\n",
       "                Male      45.343115\n",
       " Some-college   Female    33.775762\n",
       "                Male      36.946286\n",
       "Name: age, dtype: float64"
      ]
     },
     "execution_count": 29,
     "metadata": {},
     "output_type": "execute_result"
    }
   ],
   "source": [
    "data['age'].groupby([data['education'],data['sex']]).mean()"
   ]
  },
  {
   "cell_type": "markdown",
   "id": "aa025393",
   "metadata": {},
   "source": [
    "The dataset data is grouped by the education and sex columns, and the mean age for each group is calculated.This results in a multi-level index, with education as the first level and sex as the second level.The output reveals the average age of each gender in different education categories."
   ]
  },
  {
   "cell_type": "markdown",
   "id": "3171bc8d",
   "metadata": {},
   "source": [
    "### Q3   What is the average contribution to capital-gain of each sex and occupation category?"
   ]
  },
  {
   "cell_type": "code",
   "execution_count": 30,
   "id": "06c5019e",
   "metadata": {},
   "outputs": [
    {
     "data": {
      "text/plain": [
       "sex      occupation        \n",
       " Female   ?                     266.987080\n",
       "          Adm-clerical          442.869919\n",
       "          Craft-repair          784.014634\n",
       "          Exec-managerial       959.121127\n",
       "          Farming-fishing      1179.596491\n",
       "          Handlers-cleaners     147.410596\n",
       "          Machine-op-inspct     164.621359\n",
       "          Other-service         169.537150\n",
       "          Priv-house-serv       321.125000\n",
       "          Prof-specialty       1338.455777\n",
       "          Protective-serv      1889.611940\n",
       "          Sales                 259.135158\n",
       "          Tech-support          645.310769\n",
       "          Transport-moving      489.357143\n",
       " Male     ?                     817.877970\n",
       "          Adm-clerical          441.794690\n",
       "          Armed-Forces            0.000000\n",
       "          Craft-repair          611.080011\n",
       "          Exec-managerial      2762.535661\n",
       "          Farming-fishing       563.513514\n",
       "          Handlers-cleaners     268.485740\n",
       "          Machine-op-inspct     384.260805\n",
       "          Other-service         242.767356\n",
       "          Priv-house-serv        84.857143\n",
       "          Prof-specialty       3603.522204\n",
       "          Protective-serv       583.354717\n",
       "          Sales                1850.046182\n",
       "          Tech-support          700.047170\n",
       "          Transport-moving      498.105899\n",
       "Name: capital gain, dtype: float64"
      ]
     },
     "execution_count": 30,
     "metadata": {},
     "output_type": "execute_result"
    }
   ],
   "source": [
    "data['capital gain'].groupby([data['sex'],data['occupation']]).mean()"
   ]
  },
  {
   "cell_type": "code",
   "execution_count": 31,
   "id": "163aa40a",
   "metadata": {},
   "outputs": [
    {
     "data": {
      "text/plain": [
       "sex      occupation        \n",
       " Female   ?                     266.987080\n",
       "          Adm-clerical          442.869919\n",
       "          Craft-repair          784.014634\n",
       "          Exec-managerial       959.121127\n",
       "          Farming-fishing      1179.596491\n",
       "          Handlers-cleaners     147.410596\n",
       "          Machine-op-inspct     164.621359\n",
       "          Other-service         169.537150\n",
       "          Priv-house-serv       321.125000\n",
       "          Prof-specialty       1338.455777\n",
       "          Protective-serv      1889.611940\n",
       "          Sales                 259.135158\n",
       "          Tech-support          645.310769\n",
       "          Transport-moving      489.357143\n",
       " Male     ?                     817.877970\n",
       "          Adm-clerical          441.794690\n",
       "          Armed-Forces            0.000000\n",
       "          Craft-repair          611.080011\n",
       "          Exec-managerial      2762.535661\n",
       "          Farming-fishing       563.513514\n",
       "          Handlers-cleaners     268.485740\n",
       "          Machine-op-inspct     384.260805\n",
       "          Other-service         242.767356\n",
       "          Priv-house-serv        84.857143\n",
       "          Prof-specialty       3603.522204\n",
       "          Protective-serv       583.354717\n",
       "          Sales                1850.046182\n",
       "          Tech-support          700.047170\n",
       "          Transport-moving      498.105899\n",
       "Name: capital gain, dtype: float64"
      ]
     },
     "execution_count": 31,
     "metadata": {},
     "output_type": "execute_result"
    }
   ],
   "source": [
    "data.groupby(['sex', 'occupation'])['capital gain'].mean()"
   ]
  },
  {
   "cell_type": "markdown",
   "id": "e1f18911",
   "metadata": {},
   "source": [
    "Both methods group the data by both sex and occupation columns, and then calculate the mean of capital gain for each group. The output is a Series with a multi-level index of 'sex' and 'occupation', and the corresponding average capital gain for each group.\n"
   ]
  },
  {
   "cell_type": "markdown",
   "id": "e2253f59",
   "metadata": {},
   "source": [
    "### Q4     Identify the average capital-gain by males and females accross different marital-status."
   ]
  },
  {
   "cell_type": "code",
   "execution_count": 32,
   "id": "1d034ad6",
   "metadata": {},
   "outputs": [
    {
     "data": {
      "text/plain": [
       "marital status          sex    \n",
       " Divorced                Female     416.370024\n",
       "                         Male      1097.049663\n",
       " Married-AF-spouse       Female     204.076923\n",
       "                         Male      1042.571429\n",
       " Married-civ-spouse      Female    1686.291339\n",
       "                         Male      1792.854026\n",
       " Married-spouse-absent   Female     391.328042\n",
       "                         Male      1038.562500\n",
       " Never-married           Female     287.739845\n",
       "                         Male       401.032193\n",
       " Separated               Female     351.797945\n",
       "                         Male       885.793566\n",
       " Widowed                 Female     438.736636\n",
       "                         Male      1010.146497\n",
       "Name: capital gain, dtype: float64"
      ]
     },
     "execution_count": 32,
     "metadata": {},
     "output_type": "execute_result"
    }
   ],
   "source": [
    "data.groupby(['marital status', 'sex'])['capital gain'].mean()"
   ]
  },
  {
   "cell_type": "markdown",
   "id": "3441e0c7",
   "metadata": {},
   "source": [
    "2. What is the maximum age accross differnt races?"
   ]
  },
  {
   "cell_type": "code",
   "execution_count": 33,
   "id": "1131bc85",
   "metadata": {},
   "outputs": [
    {
     "data": {
      "text/plain": [
       "race\n",
       " White                 25608\n",
       " Black                  2894\n",
       " Asian-Pac-Islander      962\n",
       " Amer-Indian-Eskimo      281\n",
       " Other                   255\n",
       "Name: count, dtype: int64"
      ]
     },
     "execution_count": 33,
     "metadata": {},
     "output_type": "execute_result"
    }
   ],
   "source": [
    "data['race'].value_counts()"
   ]
  },
  {
   "cell_type": "markdown",
   "id": "fec12b75",
   "metadata": {},
   "source": [
    "Identify the different types of races and the count of each race"
   ]
  },
  {
   "cell_type": "code",
   "execution_count": 34,
   "id": "d67b2cde",
   "metadata": {},
   "outputs": [
    {
     "data": {
      "text/plain": [
       "race\n",
       " Amer-Indian-Eskimo    82\n",
       " Asian-Pac-Islander    90\n",
       " Black                 90\n",
       " Other                 77\n",
       " White                 90\n",
       "Name: age, dtype: int64"
      ]
     },
     "execution_count": 34,
     "metadata": {},
     "output_type": "execute_result"
    }
   ],
   "source": [
    "data['age'].groupby([data['race']]).max()"
   ]
  },
  {
   "cell_type": "markdown",
   "id": "bb3b34fd",
   "metadata": {},
   "source": [
    "This code computes the maximum age for each race category in the dataset. It groups the 'age' column by the unique values in the 'race' column and returns the maximum value of the 'age' column for each group. The resulting output shows the maximum age for each race category in the dataset"
   ]
  },
  {
   "cell_type": "markdown",
   "id": "be9ea2f0",
   "metadata": {},
   "source": [
    "### Q5 Are minimum and maximum age by sex same?"
   ]
  },
  {
   "cell_type": "code",
   "execution_count": 35,
   "id": "8674776b",
   "metadata": {},
   "outputs": [
    {
     "data": {
      "text/plain": [
       "sex\n",
       " Female    17\n",
       " Male      17\n",
       "Name: age, dtype: int64"
      ]
     },
     "execution_count": 35,
     "metadata": {},
     "output_type": "execute_result"
    }
   ],
   "source": [
    "#getting minimum age by sex\n",
    "data.groupby('sex')['age'].min()"
   ]
  },
  {
   "cell_type": "code",
   "execution_count": 36,
   "id": "868e92e5",
   "metadata": {},
   "outputs": [
    {
     "data": {
      "text/plain": [
       "sex\n",
       " Female    90\n",
       " Male      90\n",
       "Name: age, dtype: int64"
      ]
     },
     "execution_count": 36,
     "metadata": {},
     "output_type": "execute_result"
    }
   ],
   "source": [
    "# getting maximum age by sex:\n",
    "data.groupby('sex')['age'].max()"
   ]
  },
  {
   "cell_type": "markdown",
   "id": "1b79de4c",
   "metadata": {},
   "source": [
    "Yes, this is because the output shows that the minimum age for both male and female is 17 while the maximum age for both males and females is 90 years old. This means that the youngest person in the data set\n",
    "is 17 while the oldest person in the dataset is 90 years old., regardless of sex."
   ]
  },
  {
   "cell_type": "markdown",
   "id": "874b8262",
   "metadata": {},
   "source": [
    "## DATA VISUALIZATION\n",
    "#### Matplotlib is python library for visualizing data in the form of graphs such as histograms,scatter,box plot,line plots,heat plots etc"
   ]
  },
  {
   "cell_type": "code",
   "execution_count": 37,
   "id": "a227ba46",
   "metadata": {},
   "outputs": [],
   "source": [
    "import matplotlib.pyplot as plt\n",
    "%matplotlib inline"
   ]
  },
  {
   "cell_type": "code",
   "execution_count": 38,
   "id": "976376c6",
   "metadata": {},
   "outputs": [
    {
     "data": {
      "text/html": [
       "<div>\n",
       "<style scoped>\n",
       "    .dataframe tbody tr th:only-of-type {\n",
       "        vertical-align: middle;\n",
       "    }\n",
       "\n",
       "    .dataframe tbody tr th {\n",
       "        vertical-align: top;\n",
       "    }\n",
       "\n",
       "    .dataframe thead th {\n",
       "        text-align: right;\n",
       "    }\n",
       "</style>\n",
       "<table border=\"1\" class=\"dataframe\">\n",
       "  <thead>\n",
       "    <tr style=\"text-align: right;\">\n",
       "      <th></th>\n",
       "      <th>age</th>\n",
       "      <th>education-num</th>\n",
       "      <th>capital gain</th>\n",
       "      <th>capital loss</th>\n",
       "      <th>hours per week</th>\n",
       "    </tr>\n",
       "  </thead>\n",
       "  <tbody>\n",
       "    <tr>\n",
       "      <th>count</th>\n",
       "      <td>30000.000000</td>\n",
       "      <td>30000.000000</td>\n",
       "      <td>30000.000000</td>\n",
       "      <td>30000.000000</td>\n",
       "      <td>30000.000000</td>\n",
       "    </tr>\n",
       "    <tr>\n",
       "      <th>mean</th>\n",
       "      <td>38.601733</td>\n",
       "      <td>10.078533</td>\n",
       "      <td>1072.036100</td>\n",
       "      <td>86.703967</td>\n",
       "      <td>40.409433</td>\n",
       "    </tr>\n",
       "    <tr>\n",
       "      <th>std</th>\n",
       "      <td>13.645910</td>\n",
       "      <td>2.571715</td>\n",
       "      <td>7387.730029</td>\n",
       "      <td>401.942288</td>\n",
       "      <td>12.349540</td>\n",
       "    </tr>\n",
       "    <tr>\n",
       "      <th>min</th>\n",
       "      <td>17.000000</td>\n",
       "      <td>1.000000</td>\n",
       "      <td>0.000000</td>\n",
       "      <td>0.000000</td>\n",
       "      <td>1.000000</td>\n",
       "    </tr>\n",
       "    <tr>\n",
       "      <th>25%</th>\n",
       "      <td>28.000000</td>\n",
       "      <td>9.000000</td>\n",
       "      <td>0.000000</td>\n",
       "      <td>0.000000</td>\n",
       "      <td>40.000000</td>\n",
       "    </tr>\n",
       "    <tr>\n",
       "      <th>50%</th>\n",
       "      <td>37.000000</td>\n",
       "      <td>10.000000</td>\n",
       "      <td>0.000000</td>\n",
       "      <td>0.000000</td>\n",
       "      <td>40.000000</td>\n",
       "    </tr>\n",
       "    <tr>\n",
       "      <th>75%</th>\n",
       "      <td>48.000000</td>\n",
       "      <td>12.000000</td>\n",
       "      <td>0.000000</td>\n",
       "      <td>0.000000</td>\n",
       "      <td>45.000000</td>\n",
       "    </tr>\n",
       "    <tr>\n",
       "      <th>max</th>\n",
       "      <td>90.000000</td>\n",
       "      <td>16.000000</td>\n",
       "      <td>99999.000000</td>\n",
       "      <td>4356.000000</td>\n",
       "      <td>99.000000</td>\n",
       "    </tr>\n",
       "  </tbody>\n",
       "</table>\n",
       "</div>"
      ],
      "text/plain": [
       "                age  education-num  capital gain  capital loss  hours per week\n",
       "count  30000.000000   30000.000000  30000.000000  30000.000000    30000.000000\n",
       "mean      38.601733      10.078533   1072.036100     86.703967       40.409433\n",
       "std       13.645910       2.571715   7387.730029    401.942288       12.349540\n",
       "min       17.000000       1.000000      0.000000      0.000000        1.000000\n",
       "25%       28.000000       9.000000      0.000000      0.000000       40.000000\n",
       "50%       37.000000      10.000000      0.000000      0.000000       40.000000\n",
       "75%       48.000000      12.000000      0.000000      0.000000       45.000000\n",
       "max       90.000000      16.000000  99999.000000   4356.000000       99.000000"
      ]
     },
     "execution_count": 38,
     "metadata": {},
     "output_type": "execute_result"
    }
   ],
   "source": [
    "data.describe()"
   ]
  },
  {
   "cell_type": "markdown",
   "id": "fe625630",
   "metadata": {},
   "source": [
    "The code outputs the statistical summary of the dataset for all columns with numerical values."
   ]
  },
  {
   "cell_type": "code",
   "execution_count": 39,
   "id": "f6e623b6",
   "metadata": {},
   "outputs": [
    {
     "data": {
      "text/plain": [
       "<Axes: >"
      ]
     },
     "execution_count": 39,
     "metadata": {},
     "output_type": "execute_result"
    },
    {
     "data": {
      "image/png": "[encoded data removed]",
      "text/plain": [
       "<Figure size 640x480 with 1 Axes>"
      ]
     },
     "metadata": {},
     "output_type": "display_data"
    }
   ],
   "source": [
    "data['age'].hist(bins=50)"
   ]
  },
  {
   "cell_type": "markdown",
   "id": "58216e26",
   "metadata": {},
   "source": [
    "The code above generates a histogram of the age column where the x axis represents the age values and the y axis represents the frequency of occurrences in each age bin.\n",
    "The distribution shows that the continuous variable, age, is skewing to the older ages.Histogram with bins = 50 is used to show number of peolpe belongs to different age-groups."
   ]
  },
  {
   "cell_type": "code",
   "execution_count": 40,
   "id": "d9cf46fc",
   "metadata": {},
   "outputs": [
    {
     "data": {
      "text/plain": [
       "<Axes: >"
      ]
     },
     "execution_count": 40,
     "metadata": {},
     "output_type": "execute_result"
    },
    {
     "data": {
      "image/png": "[encoded data removed]",
      "text/plain": [
       "<Figure size 640x480 with 1 Axes>"
      ]
     },
     "metadata": {},
     "output_type": "display_data"
    }
   ],
   "source": [
    "data['age'].hist(bins= 100)"
   ]
  },
  {
   "cell_type": "markdown",
   "id": "3a91be02",
   "metadata": {},
   "source": [
    "By adding more bins we get a finer pattern in the age distribution.For this case, the histogram skeews to the right with the highest frequency is around 36-38 years and maximum age is 90 years."
   ]
  },
  {
   "cell_type": "code",
   "execution_count": 41,
   "id": "ae27855b",
   "metadata": {},
   "outputs": [
    {
     "data": {
      "text/plain": [
       "<Axes: >"
      ]
     },
     "execution_count": 41,
     "metadata": {},
     "output_type": "execute_result"
    },
    {
     "data": {
      "image/png": "[encoded data removed]",
      "text/plain": [
       "<Figure size 640x480 with 1 Axes>"
      ]
     },
     "metadata": {},
     "output_type": "display_data"
    }
   ],
   "source": [
    "data.boxplot(column='age')"
   ]
  },
  {
   "cell_type": "markdown",
   "id": "d12be5fa",
   "metadata": {},
   "source": [
    "The boxplot is used here to find the average number of people belonging to which age range group.In this case the boxplot displays the minimum age to be between 17 or 18 years and most people are between the ages of 28 - 48 years.The middle line shows the average ages with the most frequency, 36 - 38 years.The outliers present are the ranges between 78 -90 years of age."
   ]
  },
  {
   "cell_type": "code",
   "execution_count": 42,
   "id": "f7070479",
   "metadata": {},
   "outputs": [
    {
     "data": {
      "text/plain": [
       "<Axes: >"
      ]
     },
     "execution_count": 42,
     "metadata": {},
     "output_type": "execute_result"
    },
    {
     "data": {
      "image/png": "[encoded data removed]",
      "text/plain": [
       "<Figure size 640x480 with 1 Axes>"
      ]
     },
     "metadata": {},
     "output_type": "display_data"
    }
   ],
   "source": [
    "data['capital gain'].hist(bins= 100)"
   ]
  },
  {
   "cell_type": "code",
   "execution_count": 43,
   "id": "1086a2f2",
   "metadata": {},
   "outputs": [
    {
     "data": {
      "text/plain": [
       "<Axes: >"
      ]
     },
     "execution_count": 43,
     "metadata": {},
     "output_type": "execute_result"
    },
    {
     "data": {
      "image/png": "[encoded data removed]",
      "text/plain": [
       "<Figure size 640x480 with 1 Axes>"
      ]
     },
     "metadata": {},
     "output_type": "display_data"
    }
   ],
   "source": [
    "data.boxplot(column= 'capital gain')"
   ]
  },
  {
   "cell_type": "code",
   "execution_count": 44,
   "id": "90bb8323",
   "metadata": {},
   "outputs": [
    {
     "data": {
      "text/plain": [
       "<Axes: title={'center': 'age'}, xlabel='education'>"
      ]
     },
     "execution_count": 44,
     "metadata": {},
     "output_type": "execute_result"
    },
    {
     "data": {
      "image/png": "[encoded data removed]",
      "text/plain": [
       "<Figure size 640x480 with 1 Axes>"
      ]
     },
     "metadata": {},
     "output_type": "display_data"
    }
   ],
   "source": [
    "data.boxplot(column='age', by= 'education', grid= False,fontsize = 10, rot =45 )"
   ]
  },
  {
   "cell_type": "code",
   "execution_count": 45,
   "id": "c94f3e63",
   "metadata": {},
   "outputs": [
    {
     "data": {
      "text/plain": [
       "education\n",
       " HS-grad         9678\n",
       " Some-college    6724\n",
       " Bachelors       4907\n",
       " Masters         1600\n",
       " Assoc-voc       1271\n",
       " 11th            1091\n",
       " Assoc-acdm       985\n",
       " 10th             869\n",
       " 7th-8th          589\n",
       " Prof-school      526\n",
       " 9th              471\n",
       " 12th             401\n",
       " Doctorate        381\n",
       " 5th-6th          301\n",
       " 1st-4th          157\n",
       " Preschool         49\n",
       "Name: count, dtype: int64"
      ]
     },
     "execution_count": 45,
     "metadata": {},
     "output_type": "execute_result"
    }
   ],
   "source": [
    "data['education'].value_counts()"
   ]
  },
  {
   "cell_type": "code",
   "execution_count": 47,
   "id": "164b34d5",
   "metadata": {},
   "outputs": [
    {
     "data": {
      "text/plain": [
       "<Axes: title={'center': 'capital gain'}, xlabel='education'>"
      ]
     },
     "execution_count": 47,
     "metadata": {},
     "output_type": "execute_result"
    },
    {
     "data": {
      "image/png": "[encoded data removed]",
      "text/plain": [
       "<Figure size 640x480 with 1 Axes>"
      ]
     },
     "metadata": {},
     "output_type": "display_data"
    }
   ],
   "source": [
    "data.boxplot(column='capital gain', by='education', grid=False, rot=45,fontsize=10)"
   ]
  },
  {
   "cell_type": "markdown",
   "id": "5b8392ce",
   "metadata": {},
   "source": [
    "### Data Pre-Processing\n",
    "In this phase we will clean the data to reduce the noise and improve the quality of the data set.Raw data can be unstructered and full of noise.We will also prepare the dataset so that it can be accepted by the algorithm as input."
   ]
  },
  {
   "cell_type": "code",
   "execution_count": 48,
   "id": "ef8868eb",
   "metadata": {},
   "outputs": [
    {
     "data": {
      "text/plain": [
       "marital status\n",
       " Married-civ-spouse       13807\n",
       " Never-married             9818\n",
       " Divorced                  4093\n",
       " Separated                  957\n",
       " Widowed                    924\n",
       " Married-spouse-absent      381\n",
       " Married-AF-spouse           20\n",
       "Name: count, dtype: int64"
      ]
     },
     "execution_count": 48,
     "metadata": {},
     "output_type": "execute_result"
    }
   ],
   "source": [
    "data['marital status'].value_counts()"
   ]
  },
  {
   "cell_type": "markdown",
   "id": "1e47562d",
   "metadata": {},
   "source": [
    "### Checking NULL values in the dataset"
   ]
  },
  {
   "cell_type": "code",
   "execution_count": 52,
   "id": "3673dacb",
   "metadata": {},
   "outputs": [
    {
     "data": {
      "text/plain": [
       "age               0\n",
       "workclass         0\n",
       "education         0\n",
       "education-num     0\n",
       "marital status    0\n",
       "occupation        0\n",
       "relationship      0\n",
       "race              0\n",
       "sex               0\n",
       "capital gain      0\n",
       "capital loss      0\n",
       "hours per week    0\n",
       "native country    0\n",
       "class label       0\n",
       "dtype: int64"
      ]
     },
     "execution_count": 52,
     "metadata": {},
     "output_type": "execute_result"
    }
   ],
   "source": [
    "data.apply(lambda x: sum(x.isnull()), axis = 0)"
   ]
  },
  {
   "cell_type": "markdown",
   "id": "e7bb63ac",
   "metadata": {},
   "source": [
    "The code returns the total of all non missing values cantained in the dataset.This information is valuable for data analysis and processing, as having complete data without missing values."
   ]
  },
  {
   "cell_type": "markdown",
   "id": "95faf503",
   "metadata": {},
   "source": [
    "## DATA TRANSFORMATION\n",
    "\n",
    "### Label Encoding\n",
    "Some attributes are categorical, therefore (statistical) analysis on those variables is not possible. We need to convert all categorical variables (string labels) into numeric by encoding the categories. Package 'sklearn' provides 'LabelEncoder' library for encoding labels between 0 to n-1 discrete values/labels, where n is the number of values/labels. E.g.: Male -> 0 Female ->\n",
    "1"
   ]
  },
  {
   "cell_type": "code",
   "execution_count": 55,
   "id": "cdd9369a",
   "metadata": {},
   "outputs": [],
   "source": [
    "# importing LabelEncoder from sklearn.preprocessing library\n",
    "from sklearn.preprocessing import LabelEncoder "
   ]
  },
  {
   "cell_type": "code",
   "execution_count": 56,
   "id": "b311511e",
   "metadata": {},
   "outputs": [
    {
     "data": {
      "text/html": [
       "<div>\n",
       "<style scoped>\n",
       "    .dataframe tbody tr th:only-of-type {\n",
       "        vertical-align: middle;\n",
       "    }\n",
       "\n",
       "    .dataframe tbody tr th {\n",
       "        vertical-align: top;\n",
       "    }\n",
       "\n",
       "    .dataframe thead th {\n",
       "        text-align: right;\n",
       "    }\n",
       "</style>\n",
       "<table border=\"1\" class=\"dataframe\">\n",
       "  <thead>\n",
       "    <tr style=\"text-align: right;\">\n",
       "      <th></th>\n",
       "      <th>age</th>\n",
       "      <th>workclass</th>\n",
       "      <th>education</th>\n",
       "      <th>education-num</th>\n",
       "      <th>marital status</th>\n",
       "      <th>occupation</th>\n",
       "      <th>relationship</th>\n",
       "      <th>race</th>\n",
       "      <th>sex</th>\n",
       "      <th>capital gain</th>\n",
       "      <th>capital loss</th>\n",
       "      <th>hours per week</th>\n",
       "      <th>native country</th>\n",
       "      <th>class label</th>\n",
       "    </tr>\n",
       "  </thead>\n",
       "  <tbody>\n",
       "    <tr>\n",
       "      <th>22453</th>\n",
       "      <td>24</td>\n",
       "      <td>Private</td>\n",
       "      <td>Some-college</td>\n",
       "      <td>10</td>\n",
       "      <td>Never-married</td>\n",
       "      <td>Adm-clerical</td>\n",
       "      <td>Not-in-family</td>\n",
       "      <td>White</td>\n",
       "      <td>Female</td>\n",
       "      <td>0</td>\n",
       "      <td>0</td>\n",
       "      <td>40</td>\n",
       "      <td>United-States</td>\n",
       "      <td>&lt;=50K</td>\n",
       "    </tr>\n",
       "    <tr>\n",
       "      <th>14244</th>\n",
       "      <td>41</td>\n",
       "      <td>Private</td>\n",
       "      <td>HS-grad</td>\n",
       "      <td>9</td>\n",
       "      <td>Married-civ-spouse</td>\n",
       "      <td>Craft-repair</td>\n",
       "      <td>Husband</td>\n",
       "      <td>White</td>\n",
       "      <td>Male</td>\n",
       "      <td>0</td>\n",
       "      <td>0</td>\n",
       "      <td>40</td>\n",
       "      <td>United-States</td>\n",
       "      <td>&lt;=50K</td>\n",
       "    </tr>\n",
       "    <tr>\n",
       "      <th>6229</th>\n",
       "      <td>36</td>\n",
       "      <td>Private</td>\n",
       "      <td>HS-grad</td>\n",
       "      <td>9</td>\n",
       "      <td>Never-married</td>\n",
       "      <td>Adm-clerical</td>\n",
       "      <td>Not-in-family</td>\n",
       "      <td>Black</td>\n",
       "      <td>Female</td>\n",
       "      <td>0</td>\n",
       "      <td>0</td>\n",
       "      <td>40</td>\n",
       "      <td>United-States</td>\n",
       "      <td>&lt;=50K</td>\n",
       "    </tr>\n",
       "    <tr>\n",
       "      <th>31328</th>\n",
       "      <td>31</td>\n",
       "      <td>Private</td>\n",
       "      <td>HS-grad</td>\n",
       "      <td>9</td>\n",
       "      <td>Married-civ-spouse</td>\n",
       "      <td>Other-service</td>\n",
       "      <td>Husband</td>\n",
       "      <td>White</td>\n",
       "      <td>Male</td>\n",
       "      <td>0</td>\n",
       "      <td>0</td>\n",
       "      <td>35</td>\n",
       "      <td>United-States</td>\n",
       "      <td>&lt;=50K</td>\n",
       "    </tr>\n",
       "    <tr>\n",
       "      <th>21040</th>\n",
       "      <td>30</td>\n",
       "      <td>Private</td>\n",
       "      <td>Bachelors</td>\n",
       "      <td>13</td>\n",
       "      <td>Married-civ-spouse</td>\n",
       "      <td>Prof-specialty</td>\n",
       "      <td>Husband</td>\n",
       "      <td>White</td>\n",
       "      <td>Male</td>\n",
       "      <td>0</td>\n",
       "      <td>1902</td>\n",
       "      <td>55</td>\n",
       "      <td>United-States</td>\n",
       "      <td>&gt;50K</td>\n",
       "    </tr>\n",
       "  </tbody>\n",
       "</table>\n",
       "</div>"
      ],
      "text/plain": [
       "       age workclass      education  education-num       marital status   \n",
       "22453   24   Private   Some-college             10        Never-married  \\\n",
       "14244   41   Private        HS-grad              9   Married-civ-spouse   \n",
       "6229    36   Private        HS-grad              9        Never-married   \n",
       "31328   31   Private        HS-grad              9   Married-civ-spouse   \n",
       "21040   30   Private      Bachelors             13   Married-civ-spouse   \n",
       "\n",
       "            occupation    relationship    race      sex  capital gain   \n",
       "22453     Adm-clerical   Not-in-family   White   Female             0  \\\n",
       "14244     Craft-repair         Husband   White     Male             0   \n",
       "6229      Adm-clerical   Not-in-family   Black   Female             0   \n",
       "31328    Other-service         Husband   White     Male             0   \n",
       "21040   Prof-specialty         Husband   White     Male             0   \n",
       "\n",
       "       capital loss  hours per week  native country class label  \n",
       "22453             0              40   United-States       <=50K  \n",
       "14244             0              40   United-States       <=50K  \n",
       "6229              0              40   United-States       <=50K  \n",
       "31328             0              35   United-States       <=50K  \n",
       "21040          1902              55   United-States        >50K  "
      ]
     },
     "execution_count": 56,
     "metadata": {},
     "output_type": "execute_result"
    }
   ],
   "source": [
    "data.head()"
   ]
  },
  {
   "cell_type": "markdown",
   "id": "e3333415",
   "metadata": {},
   "source": [
    "First we preview the data to see if it has been loaded with the correct colummns.The column names are correct, and that the data types have been interpreted correctly"
   ]
  },
  {
   "cell_type": "code",
   "execution_count": 57,
   "id": "8b4578cc",
   "metadata": {
    "scrolled": true
   },
   "outputs": [
    {
     "data": {
      "text/plain": [
       "age                int64\n",
       "workclass         object\n",
       "education         object\n",
       "education-num      int64\n",
       "marital status    object\n",
       "occupation        object\n",
       "relationship      object\n",
       "race              object\n",
       "sex               object\n",
       "capital gain       int64\n",
       "capital loss       int64\n",
       "hours per week     int64\n",
       "native country    object\n",
       "class label       object\n",
       "dtype: object"
      ]
     },
     "execution_count": 57,
     "metadata": {},
     "output_type": "execute_result"
    }
   ],
   "source": [
    "data.dtypes"
   ]
  },
  {
   "cell_type": "markdown",
   "id": "dd70fd2c",
   "metadata": {},
   "source": [
    "Here we check the types of data stored within the columns of the data set"
   ]
  },
  {
   "cell_type": "code",
   "execution_count": 62,
   "id": "6a3802db",
   "metadata": {},
   "outputs": [
    {
     "name": "stdout",
     "output_type": "stream",
     "text": [
      "['workclass', 'education', 'marital status', 'occupation', 'relationship', 'race', 'sex', 'native country', 'class label']\n"
     ]
    }
   ],
   "source": [
    "columns = list(data.select_dtypes(exclude = ['int64']))\n",
    "print(columns)"
   ]
  },
  {
   "cell_type": "markdown",
   "id": "cad3e519",
   "metadata": {},
   "source": [
    "The code returns a list of all the columns that have no numeric values. It excludes the columns that have a numeric value."
   ]
  },
  {
   "cell_type": "code",
   "execution_count": 64,
   "id": "c28ff7b5",
   "metadata": {},
   "outputs": [
    {
     "data": {
      "text/plain": [
       "class label\n",
       " <=50K    22779\n",
       " >50K      7221\n",
       "Name: count, dtype: int64"
      ]
     },
     "execution_count": 64,
     "metadata": {},
     "output_type": "execute_result"
    }
   ],
   "source": [
    "data['class label'].value_counts()"
   ]
  },
  {
   "cell_type": "markdown",
   "id": "182f2c85",
   "metadata": {},
   "source": [
    "The output shows that 22779 earn equal to or below 50,000 and only 7221 earning above 50,000"
   ]
  },
  {
   "cell_type": "code",
   "execution_count": 70,
   "id": "a470c1ba",
   "metadata": {},
   "outputs": [
    {
     "name": "stdout",
     "output_type": "stream",
     "text": [
      "age               int64\n",
      "workclass         int64\n",
      "education         int64\n",
      "education-num     int64\n",
      "marital status    int64\n",
      "occupation        int64\n",
      "relationship      int64\n",
      "race              int64\n",
      "sex               int64\n",
      "capital gain      int64\n",
      "capital loss      int64\n",
      "hours per week    int64\n",
      "native country    int64\n",
      "class label       int64\n",
      "dtype: object\n"
     ]
    }
   ],
   "source": [
    "le = LabelEncoder()\n",
    "for i in columns:\n",
    "    data[i] = le.fit_transform(data[i])\n",
    "print(data.dtypes)"
   ]
  },
  {
   "cell_type": "markdown",
   "id": "d1c87874",
   "metadata": {},
   "source": [
    "LabelEncoder() object from the sklearn.preprocessing package is imported in this code.The categorical data in each column of the data DataFrame is then encoded as numerical labels using a LabelEncoder object by iterating over each column in a loop. The data in each column are transformed into encoded labels by fitting the encoder to them using the fit transform() method.The data types of each column after encoding are displayed in the data DataFrame's dtypes attribute, which is printed last."
   ]
  },
  {
   "cell_type": "code",
   "execution_count": 71,
   "id": "3afbb166",
   "metadata": {},
   "outputs": [
    {
     "data": {
      "text/html": [
       "<div>\n",
       "<style scoped>\n",
       "    .dataframe tbody tr th:only-of-type {\n",
       "        vertical-align: middle;\n",
       "    }\n",
       "\n",
       "    .dataframe tbody tr th {\n",
       "        vertical-align: top;\n",
       "    }\n",
       "\n",
       "    .dataframe thead th {\n",
       "        text-align: right;\n",
       "    }\n",
       "</style>\n",
       "<table border=\"1\" class=\"dataframe\">\n",
       "  <thead>\n",
       "    <tr style=\"text-align: right;\">\n",
       "      <th></th>\n",
       "      <th>age</th>\n",
       "      <th>workclass</th>\n",
       "      <th>education</th>\n",
       "      <th>education-num</th>\n",
       "      <th>marital status</th>\n",
       "      <th>occupation</th>\n",
       "      <th>relationship</th>\n",
       "      <th>race</th>\n",
       "      <th>sex</th>\n",
       "      <th>capital gain</th>\n",
       "      <th>capital loss</th>\n",
       "      <th>hours per week</th>\n",
       "      <th>native country</th>\n",
       "      <th>class label</th>\n",
       "    </tr>\n",
       "  </thead>\n",
       "  <tbody>\n",
       "    <tr>\n",
       "      <th>22453</th>\n",
       "      <td>24</td>\n",
       "      <td>4</td>\n",
       "      <td>15</td>\n",
       "      <td>10</td>\n",
       "      <td>4</td>\n",
       "      <td>1</td>\n",
       "      <td>1</td>\n",
       "      <td>4</td>\n",
       "      <td>0</td>\n",
       "      <td>0</td>\n",
       "      <td>0</td>\n",
       "      <td>40</td>\n",
       "      <td>39</td>\n",
       "      <td>0</td>\n",
       "    </tr>\n",
       "    <tr>\n",
       "      <th>14244</th>\n",
       "      <td>41</td>\n",
       "      <td>4</td>\n",
       "      <td>11</td>\n",
       "      <td>9</td>\n",
       "      <td>2</td>\n",
       "      <td>3</td>\n",
       "      <td>0</td>\n",
       "      <td>4</td>\n",
       "      <td>1</td>\n",
       "      <td>0</td>\n",
       "      <td>0</td>\n",
       "      <td>40</td>\n",
       "      <td>39</td>\n",
       "      <td>0</td>\n",
       "    </tr>\n",
       "    <tr>\n",
       "      <th>6229</th>\n",
       "      <td>36</td>\n",
       "      <td>4</td>\n",
       "      <td>11</td>\n",
       "      <td>9</td>\n",
       "      <td>4</td>\n",
       "      <td>1</td>\n",
       "      <td>1</td>\n",
       "      <td>2</td>\n",
       "      <td>0</td>\n",
       "      <td>0</td>\n",
       "      <td>0</td>\n",
       "      <td>40</td>\n",
       "      <td>39</td>\n",
       "      <td>0</td>\n",
       "    </tr>\n",
       "    <tr>\n",
       "      <th>31328</th>\n",
       "      <td>31</td>\n",
       "      <td>4</td>\n",
       "      <td>11</td>\n",
       "      <td>9</td>\n",
       "      <td>2</td>\n",
       "      <td>8</td>\n",
       "      <td>0</td>\n",
       "      <td>4</td>\n",
       "      <td>1</td>\n",
       "      <td>0</td>\n",
       "      <td>0</td>\n",
       "      <td>35</td>\n",
       "      <td>39</td>\n",
       "      <td>0</td>\n",
       "    </tr>\n",
       "    <tr>\n",
       "      <th>21040</th>\n",
       "      <td>30</td>\n",
       "      <td>4</td>\n",
       "      <td>9</td>\n",
       "      <td>13</td>\n",
       "      <td>2</td>\n",
       "      <td>10</td>\n",
       "      <td>0</td>\n",
       "      <td>4</td>\n",
       "      <td>1</td>\n",
       "      <td>0</td>\n",
       "      <td>1902</td>\n",
       "      <td>55</td>\n",
       "      <td>39</td>\n",
       "      <td>1</td>\n",
       "    </tr>\n",
       "  </tbody>\n",
       "</table>\n",
       "</div>"
      ],
      "text/plain": [
       "       age  workclass  education  education-num  marital status  occupation   \n",
       "22453   24          4         15             10               4           1  \\\n",
       "14244   41          4         11              9               2           3   \n",
       "6229    36          4         11              9               4           1   \n",
       "31328   31          4         11              9               2           8   \n",
       "21040   30          4          9             13               2          10   \n",
       "\n",
       "       relationship  race  sex  capital gain  capital loss  hours per week   \n",
       "22453             1     4    0             0             0              40  \\\n",
       "14244             0     4    1             0             0              40   \n",
       "6229              1     2    0             0             0              40   \n",
       "31328             0     4    1             0             0              35   \n",
       "21040             0     4    1             0          1902              55   \n",
       "\n",
       "       native country  class label  \n",
       "22453              39            0  \n",
       "14244              39            0  \n",
       "6229               39            0  \n",
       "31328              39            0  \n",
       "21040              39            1  "
      ]
     },
     "execution_count": 71,
     "metadata": {},
     "output_type": "execute_result"
    }
   ],
   "source": [
    "data.head()"
   ]
  },
  {
   "cell_type": "markdown",
   "id": "f3aae26b",
   "metadata": {},
   "source": [
    "non-numeric values transformed to numerical values"
   ]
  },
  {
   "cell_type": "code",
   "execution_count": 72,
   "id": "82aef24f",
   "metadata": {},
   "outputs": [
    {
     "data": {
      "text/plain": [
       "workclass\n",
       "4    20897\n",
       "6     2339\n",
       "2     1931\n",
       "0     1693\n",
       "7     1204\n",
       "5     1031\n",
       "1      885\n",
       "8       13\n",
       "3        7\n",
       "Name: count, dtype: int64"
      ]
     },
     "execution_count": 72,
     "metadata": {},
     "output_type": "execute_result"
    }
   ],
   "source": [
    "data['workclass'].value_counts()"
   ]
  },
  {
   "cell_type": "markdown",
   "id": "a7cf9d20",
   "metadata": {},
   "source": [
    "All the values are now numeric. Now, more computations and analysis can be performed on the dataset."
   ]
  },
  {
   "cell_type": "code",
   "execution_count": 73,
   "id": "e9654212",
   "metadata": {},
   "outputs": [
    {
     "data": {
      "text/plain": [
       "<Axes: >"
      ]
     },
     "execution_count": 73,
     "metadata": {},
     "output_type": "execute_result"
    },
    {
     "data": {
      "image/png": "[encoded data removed]",
      "text/plain": [
       "<Figure size 640x480 with 1 Axes>"
      ]
     },
     "metadata": {},
     "output_type": "display_data"
    }
   ],
   "source": [
    "data['education'].hist(bins=100)"
   ]
  },
  {
   "cell_type": "markdown",
   "id": "47f6923f",
   "metadata": {},
   "source": [
    "The histogram generated shows the education distribution, the x-axis represents the values of the variable and the y-axis represents the frequency of occurrence. In this case, the histogram shows the frequency of\n",
    "each education level in the dataset."
   ]
  },
  {
   "cell_type": "code",
   "execution_count": 74,
   "id": "e88b7d85",
   "metadata": {},
   "outputs": [
    {
     "data": {
      "text/html": [
       "<div>\n",
       "<style scoped>\n",
       "    .dataframe tbody tr th:only-of-type {\n",
       "        vertical-align: middle;\n",
       "    }\n",
       "\n",
       "    .dataframe tbody tr th {\n",
       "        vertical-align: top;\n",
       "    }\n",
       "\n",
       "    .dataframe thead th {\n",
       "        text-align: right;\n",
       "    }\n",
       "</style>\n",
       "<table border=\"1\" class=\"dataframe\">\n",
       "  <thead>\n",
       "    <tr style=\"text-align: right;\">\n",
       "      <th></th>\n",
       "      <th>age</th>\n",
       "      <th>workclass</th>\n",
       "      <th>education</th>\n",
       "      <th>education-num</th>\n",
       "      <th>marital status</th>\n",
       "      <th>occupation</th>\n",
       "      <th>relationship</th>\n",
       "      <th>race</th>\n",
       "      <th>sex</th>\n",
       "      <th>capital gain</th>\n",
       "      <th>capital loss</th>\n",
       "      <th>hours per week</th>\n",
       "      <th>native country</th>\n",
       "      <th>class label</th>\n",
       "    </tr>\n",
       "  </thead>\n",
       "  <tbody>\n",
       "    <tr>\n",
       "      <th>count</th>\n",
       "      <td>30000.000000</td>\n",
       "      <td>30000.000000</td>\n",
       "      <td>30000.000000</td>\n",
       "      <td>30000.000000</td>\n",
       "      <td>30000.000000</td>\n",
       "      <td>30000.000000</td>\n",
       "      <td>30000.000000</td>\n",
       "      <td>30000.000000</td>\n",
       "      <td>30000.000000</td>\n",
       "      <td>30000.000000</td>\n",
       "      <td>30000.000000</td>\n",
       "      <td>30000.000000</td>\n",
       "      <td>30000.000000</td>\n",
       "      <td>30000.000000</td>\n",
       "    </tr>\n",
       "    <tr>\n",
       "      <th>mean</th>\n",
       "      <td>38.601733</td>\n",
       "      <td>3.869233</td>\n",
       "      <td>10.296467</td>\n",
       "      <td>10.078533</td>\n",
       "      <td>2.612600</td>\n",
       "      <td>6.577933</td>\n",
       "      <td>1.442867</td>\n",
       "      <td>3.664900</td>\n",
       "      <td>0.669300</td>\n",
       "      <td>1072.036100</td>\n",
       "      <td>86.703967</td>\n",
       "      <td>40.409433</td>\n",
       "      <td>36.717767</td>\n",
       "      <td>0.240700</td>\n",
       "    </tr>\n",
       "    <tr>\n",
       "      <th>std</th>\n",
       "      <td>13.645910</td>\n",
       "      <td>1.457213</td>\n",
       "      <td>3.877260</td>\n",
       "      <td>2.571715</td>\n",
       "      <td>1.507602</td>\n",
       "      <td>4.231957</td>\n",
       "      <td>1.605892</td>\n",
       "      <td>0.848861</td>\n",
       "      <td>0.470473</td>\n",
       "      <td>7387.730029</td>\n",
       "      <td>401.942288</td>\n",
       "      <td>12.349540</td>\n",
       "      <td>7.818931</td>\n",
       "      <td>0.427516</td>\n",
       "    </tr>\n",
       "    <tr>\n",
       "      <th>min</th>\n",
       "      <td>17.000000</td>\n",
       "      <td>0.000000</td>\n",
       "      <td>0.000000</td>\n",
       "      <td>1.000000</td>\n",
       "      <td>0.000000</td>\n",
       "      <td>0.000000</td>\n",
       "      <td>0.000000</td>\n",
       "      <td>0.000000</td>\n",
       "      <td>0.000000</td>\n",
       "      <td>0.000000</td>\n",
       "      <td>0.000000</td>\n",
       "      <td>1.000000</td>\n",
       "      <td>0.000000</td>\n",
       "      <td>0.000000</td>\n",
       "    </tr>\n",
       "    <tr>\n",
       "      <th>25%</th>\n",
       "      <td>28.000000</td>\n",
       "      <td>4.000000</td>\n",
       "      <td>9.000000</td>\n",
       "      <td>9.000000</td>\n",
       "      <td>2.000000</td>\n",
       "      <td>3.000000</td>\n",
       "      <td>0.000000</td>\n",
       "      <td>4.000000</td>\n",
       "      <td>0.000000</td>\n",
       "      <td>0.000000</td>\n",
       "      <td>0.000000</td>\n",
       "      <td>40.000000</td>\n",
       "      <td>39.000000</td>\n",
       "      <td>0.000000</td>\n",
       "    </tr>\n",
       "    <tr>\n",
       "      <th>50%</th>\n",
       "      <td>37.000000</td>\n",
       "      <td>4.000000</td>\n",
       "      <td>11.000000</td>\n",
       "      <td>10.000000</td>\n",
       "      <td>2.000000</td>\n",
       "      <td>7.000000</td>\n",
       "      <td>1.000000</td>\n",
       "      <td>4.000000</td>\n",
       "      <td>1.000000</td>\n",
       "      <td>0.000000</td>\n",
       "      <td>0.000000</td>\n",
       "      <td>40.000000</td>\n",
       "      <td>39.000000</td>\n",
       "      <td>0.000000</td>\n",
       "    </tr>\n",
       "    <tr>\n",
       "      <th>75%</th>\n",
       "      <td>48.000000</td>\n",
       "      <td>4.000000</td>\n",
       "      <td>12.000000</td>\n",
       "      <td>12.000000</td>\n",
       "      <td>4.000000</td>\n",
       "      <td>10.000000</td>\n",
       "      <td>3.000000</td>\n",
       "      <td>4.000000</td>\n",
       "      <td>1.000000</td>\n",
       "      <td>0.000000</td>\n",
       "      <td>0.000000</td>\n",
       "      <td>45.000000</td>\n",
       "      <td>39.000000</td>\n",
       "      <td>0.000000</td>\n",
       "    </tr>\n",
       "    <tr>\n",
       "      <th>max</th>\n",
       "      <td>90.000000</td>\n",
       "      <td>8.000000</td>\n",
       "      <td>15.000000</td>\n",
       "      <td>16.000000</td>\n",
       "      <td>6.000000</td>\n",
       "      <td>14.000000</td>\n",
       "      <td>5.000000</td>\n",
       "      <td>4.000000</td>\n",
       "      <td>1.000000</td>\n",
       "      <td>99999.000000</td>\n",
       "      <td>4356.000000</td>\n",
       "      <td>99.000000</td>\n",
       "      <td>41.000000</td>\n",
       "      <td>1.000000</td>\n",
       "    </tr>\n",
       "  </tbody>\n",
       "</table>\n",
       "</div>"
      ],
      "text/plain": [
       "                age     workclass     education  education-num   \n",
       "count  30000.000000  30000.000000  30000.000000   30000.000000  \\\n",
       "mean      38.601733      3.869233     10.296467      10.078533   \n",
       "std       13.645910      1.457213      3.877260       2.571715   \n",
       "min       17.000000      0.000000      0.000000       1.000000   \n",
       "25%       28.000000      4.000000      9.000000       9.000000   \n",
       "50%       37.000000      4.000000     11.000000      10.000000   \n",
       "75%       48.000000      4.000000     12.000000      12.000000   \n",
       "max       90.000000      8.000000     15.000000      16.000000   \n",
       "\n",
       "       marital status    occupation  relationship          race           sex   \n",
       "count    30000.000000  30000.000000  30000.000000  30000.000000  30000.000000  \\\n",
       "mean         2.612600      6.577933      1.442867      3.664900      0.669300   \n",
       "std          1.507602      4.231957      1.605892      0.848861      0.470473   \n",
       "min          0.000000      0.000000      0.000000      0.000000      0.000000   \n",
       "25%          2.000000      3.000000      0.000000      4.000000      0.000000   \n",
       "50%          2.000000      7.000000      1.000000      4.000000      1.000000   \n",
       "75%          4.000000     10.000000      3.000000      4.000000      1.000000   \n",
       "max          6.000000     14.000000      5.000000      4.000000      1.000000   \n",
       "\n",
       "       capital gain  capital loss  hours per week  native country   \n",
       "count  30000.000000  30000.000000    30000.000000    30000.000000  \\\n",
       "mean    1072.036100     86.703967       40.409433       36.717767   \n",
       "std     7387.730029    401.942288       12.349540        7.818931   \n",
       "min        0.000000      0.000000        1.000000        0.000000   \n",
       "25%        0.000000      0.000000       40.000000       39.000000   \n",
       "50%        0.000000      0.000000       40.000000       39.000000   \n",
       "75%        0.000000      0.000000       45.000000       39.000000   \n",
       "max    99999.000000   4356.000000       99.000000       41.000000   \n",
       "\n",
       "        class label  \n",
       "count  30000.000000  \n",
       "mean       0.240700  \n",
       "std        0.427516  \n",
       "min        0.000000  \n",
       "25%        0.000000  \n",
       "50%        0.000000  \n",
       "75%        0.000000  \n",
       "max        1.000000  "
      ]
     },
     "execution_count": 74,
     "metadata": {},
     "output_type": "execute_result"
    }
   ],
   "source": [
    "data.describe(include='all')"
   ]
  },
  {
   "cell_type": "markdown",
   "id": "adf30824",
   "metadata": {},
   "source": [
    "The command returns the statistical summary of all the numerical values in the dataset"
   ]
  },
  {
   "cell_type": "markdown",
   "id": "5985c24c",
   "metadata": {},
   "source": [
    "## End of Notebook"
   ]
  }
 ],
 "metadata": {
  "kernelspec": {
   "display_name": "Python 3 (ipykernel)",
   "language": "python",
   "name": "python3"
  },
  "language_info": {
   "codemirror_mode": {
    "name": "ipython",
    "version": 3
   },
   "file_extension": ".py",
   "mimetype": "text/x-python",
   "name": "python",
   "nbconvert_exporter": "python",
   "pygments_lexer": "ipython3",
   "version": "3.10.10"
  }
 },
 "nbformat": 4,
 "nbformat_minor": 5
}
