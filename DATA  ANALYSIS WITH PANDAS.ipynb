{
 "cells": [
  {
   "cell_type": "markdown",
   "id": "7fe99d2d",
   "metadata": {},
   "source": [
    "# Data Analysis with Pandas"
   ]
  },
  {
   "cell_type": "markdown",
   "id": "d989f117",
   "metadata": {},
   "source": [
    "In this notebook, I will be using Pandas to read Adult dataset and to perform some basic analysis to improve the understanding of the dataset.This Notebook demonstrates various processes of data analysis step-by-step.\n",
    "\n",
    "### Goals:  \n",
    "- Program in Python using Jupyter notebook\n",
    "- Perform Data Analysis using Pandas\n",
    "- Practice data pre-processing methods\n",
    "- Analyze and summarize the dataset by finding facts from the data\n",
    "\n",
    "#### Dataset:  \n",
    "Adult - https://archive.ics.uci.edu/ml/datasets/Adult (https://archive.ics.uci.edu/ml/datasets/Adult)\n",
    "- Please read Adult webpage carefully including Attribute Information section to familiarise yourself with the data and the data structure.\n",
    "- To download data, click 'Data Folder' and select 'adult.data'. Save the data file as .csv file.\n",
    "- Attributes: You will also need to see 'adult.names' for the attribute names. Insert a row at the top of the dataset and add attribute names to the respective columns.\n",
    "- You will notice that the last column has no name. Name the last column as 'class-label'.\n"
   ]
  },
  {
   "cell_type": "code",
   "execution_count": null,
   "id": "069732d1",
   "metadata": {},
   "outputs": [],
   "source": []
  }
 ],
 "metadata": {
  "kernelspec": {
   "display_name": "Python 3 (ipykernel)",
   "language": "python",
   "name": "python3"
  },
  "language_info": {
   "codemirror_mode": {
    "name": "ipython",
    "version": 3
   },
   "file_extension": ".py",
   "mimetype": "text/x-python",
   "name": "python",
   "nbconvert_exporter": "python",
   "pygments_lexer": "ipython3",
   "version": "3.10.10"
  }
 },
 "nbformat": 4,
 "nbformat_minor": 5
}
